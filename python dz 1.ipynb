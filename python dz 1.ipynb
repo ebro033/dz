{
  "nbformat": 4,
  "nbformat_minor": 0,
  "metadata": {
    "colab": {
      "provenance": []
    },
    "kernelspec": {
      "name": "python3",
      "display_name": "Python 3"
    },
    "language_info": {
      "name": "python"
    }
  },
  "cells": [
    {
      "cell_type": "markdown",
      "source": [
        "### Задание 0 - Отрабатываем арифметические операции\n",
        "\n",
        "С помощью арифметических операторов `+,-,/,*,//,%,**` найдите значения следующих выражений:\n",
        "1. остаток от деления 101 на 10\n",
        "2. целая часть от деления 98 на 12\n",
        "3. кубический корень из 27\n",
        "4. сложите значения, полученные в пункте 1, 2 и 3. Результат возведите в степень -1"
      ],
      "metadata": {
        "id": "H-l1EfYxfnnt"
      }
    },
    {
      "cell_type": "markdown",
      "source": [
        "### Задание 0 - Отрабатываем арифметические операции\n",
        "\n",
        "С помощью арифметических операторов `+,-,/,*,//,%,**` найдите значения следующих выражений:\n",
        "1. остаток от деления 101 на 10\n",
        "2. целая часть от деления 98 на 12\n",
        "3. кубический корень из 27\n",
        "4. сложите значения, полученные в пункте 1, 2 и 3. Результат возведите в степень -1"
      ],
      "metadata": {
        "id": "5Iz1AflgbGH1"
      }
    },
    {
      "cell_type": "code",
      "source": [
        "result = 101 % 10\n",
        "print(result)"
      ],
      "metadata": {
        "id": "WZucMPSFOvaT",
        "outputId": "491eee63-bb9f-4f42-cb44-ca50ea9670f0",
        "colab": {
          "base_uri": "https://localhost:8080/"
        }
      },
      "execution_count": null,
      "outputs": [
        {
          "output_type": "stream",
          "name": "stdout",
          "text": [
            "1\n"
          ]
        }
      ]
    },
    {
      "cell_type": "code",
      "source": [
        "result = 98 // 12\n",
        "print(result)"
      ],
      "metadata": {
        "id": "JfH2Tnj7cR3m",
        "outputId": "5f3296b5-04c4-4c7f-840d-7586fe7976c7",
        "colab": {
          "base_uri": "https://localhost:8080/"
        }
      },
      "execution_count": null,
      "outputs": [
        {
          "output_type": "stream",
          "name": "stdout",
          "text": [
            "8\n"
          ]
        }
      ]
    },
    {
      "cell_type": "code",
      "source": [
        "result = 27 ** (1/3)\n",
        "print(result)"
      ],
      "metadata": {
        "id": "X7Dn3NC3cWY6",
        "outputId": "b79a99fc-e1a1-4d36-baa2-44f5e5306641",
        "colab": {
          "base_uri": "https://localhost:8080/"
        }
      },
      "execution_count": null,
      "outputs": [
        {
          "output_type": "stream",
          "name": "stdout",
          "text": [
            "3.0\n"
          ]
        }
      ]
    },
    {
      "cell_type": "code",
      "source": [
        "sum = 1 + 8 + 3.0\n",
        "result = sum ** -1\n",
        "print(result)"
      ],
      "metadata": {
        "id": "eRJREtkmcZTM",
        "outputId": "a69ccd55-a0f9-4812-bba6-323d67e1e1e5",
        "colab": {
          "base_uri": "https://localhost:8080/"
        }
      },
      "execution_count": null,
      "outputs": [
        {
          "output_type": "stream",
          "name": "stdout",
          "text": [
            "0.08333333333333333\n"
          ]
        }
      ]
    },
    {
      "cell_type": "markdown",
      "source": [
        "### Задание 1 - Отрабатываем логические операторы\n",
        "\n",
        "Замените знак вопроса на один из логических операторов: `not, and, or`, чтобы получить указанный в комментариях результат выражения"
      ],
      "metadata": {
        "id": "gba-fe1lZL_Y"
      }
    },
    {
      "cell_type": "code",
      "execution_count": null,
      "metadata": {
        "colab": {
          "base_uri": "https://localhost:8080/"
        },
        "id": "cZvfPigvZBhS",
        "outputId": "e3decba0-7dce-4852-df8b-c41302eae1cd"
      },
      "outputs": [
        {
          "output_type": "execute_result",
          "data": {
            "text/plain": [
              "True"
            ]
          },
          "metadata": {},
          "execution_count": 5
        }
      ],
      "source": [
        "# замените ? так, чтобы получить True\n",
        "not False"
      ]
    },
    {
      "cell_type": "code",
      "source": [
        "# замените ? так, чтобы получить True\n",
        "True or False"
      ],
      "metadata": {
        "colab": {
          "base_uri": "https://localhost:8080/"
        },
        "id": "KZIDWnfsaBTS",
        "outputId": "cbba4b69-62d4-44c1-b9f2-7474ef2ae124"
      },
      "execution_count": null,
      "outputs": [
        {
          "output_type": "execute_result",
          "data": {
            "text/plain": [
              "True"
            ]
          },
          "metadata": {},
          "execution_count": 8
        }
      ]
    },
    {
      "cell_type": "code",
      "source": [
        "# замените ? так, чтобы получить False\n",
        "(1 < 0) and (9 <= 10)"
      ],
      "metadata": {
        "colab": {
          "base_uri": "https://localhost:8080/"
        },
        "id": "w7wa7TRoaEO3",
        "outputId": "ac796d74-7e29-4236-ca07-e801519e290e"
      },
      "execution_count": null,
      "outputs": [
        {
          "output_type": "execute_result",
          "data": {
            "text/plain": [
              "False"
            ]
          },
          "metadata": {},
          "execution_count": 16
        }
      ]
    },
    {
      "cell_type": "code",
      "source": [
        "# замените ? так, чтобы получить False\n",
        "(10 == '10') and True"
      ],
      "metadata": {
        "colab": {
          "base_uri": "https://localhost:8080/"
        },
        "id": "9kqrD0KtaI9B",
        "outputId": "52a3ad00-4411-4843-8e0b-a42f2059e11c"
      },
      "execution_count": null,
      "outputs": [
        {
          "output_type": "execute_result",
          "data": {
            "text/plain": [
              "False"
            ]
          },
          "metadata": {},
          "execution_count": 19
        }
      ]
    },
    {
      "cell_type": "code",
      "source": [
        "# замените ? так, чтобы получить False\n",
        "not (10 == 10) and (1 == 1)"
      ],
      "metadata": {
        "colab": {
          "base_uri": "https://localhost:8080/"
        },
        "id": "sKfKlQ5oaa68",
        "outputId": "0187a8cd-e0cd-459f-b8eb-cf457f96063b"
      },
      "execution_count": null,
      "outputs": [
        {
          "output_type": "execute_result",
          "data": {
            "text/plain": [
              "False"
            ]
          },
          "metadata": {},
          "execution_count": 20
        }
      ]
    },
    {
      "cell_type": "code",
      "source": [
        "# замените ? так, чтобы получить False\n",
        "not ((10 == 10) and (1 == 1))"
      ],
      "metadata": {
        "colab": {
          "base_uri": "https://localhost:8080/"
        },
        "id": "KPOIXiI1akO8",
        "outputId": "6c1d8a58-e6e6-4b47-8a94-bb132ff29cd3"
      },
      "execution_count": null,
      "outputs": [
        {
          "output_type": "execute_result",
          "data": {
            "text/plain": [
              "False"
            ]
          },
          "metadata": {},
          "execution_count": 21
        }
      ]
    },
    {
      "cell_type": "markdown",
      "source": [
        "### Задание 2 - Типы данных\n",
        "\n",
        "Выполните действия, описанные в комментарии каждой ячейки"
      ],
      "metadata": {
        "id": "fQ9zkBk2a8c2"
      }
    },
    {
      "cell_type": "code",
      "source": [
        "# ПРИМЕР\n",
        "# выведите тип данных, полученного в результате следующего действия:\n",
        "# приведите число 1.222 к типу int\n",
        "num = 1.222\n",
        "con = int(1.222)\n",
        "print(con)\n"
      ],
      "metadata": {
        "colab": {
          "base_uri": "https://localhost:8080/"
        },
        "id": "v2wsCAviawnb",
        "outputId": "cd677caa-9c3d-4ff1-aa00-6e372c9296df"
      },
      "execution_count": null,
      "outputs": [
        {
          "output_type": "stream",
          "name": "stdout",
          "text": [
            "1\n"
          ]
        }
      ]
    },
    {
      "cell_type": "code",
      "source": [
        "# выведите тип данных, полученного в результате следующего действия:\n",
        "# возьмите пустую строку и умножьте ее на -1\n",
        "str = \"\"\n",
        "result = str * -1\n",
        "print(result)"
      ],
      "metadata": {
        "colab": {
          "base_uri": "https://localhost:8080/"
        },
        "id": "aYyoZ-tCdxyA",
        "outputId": "a8b1137f-7f6f-440a-d6b4-9d1843da9fab"
      },
      "execution_count": null,
      "outputs": [
        {
          "output_type": "stream",
          "name": "stdout",
          "text": [
            "\n"
          ]
        }
      ]
    },
    {
      "cell_type": "code",
      "source": [
        "\n",
        "# разделите 1234 на 100 . результат приведите к типу str\n",
        "import builtins\n",
        "str = builtins.str\n",
        "number = 1234\n",
        "result = number / 100\n",
        "string_result = str(result)\n",
        "print(string_result)\n",
        "\n"
      ],
      "metadata": {
        "colab": {
          "base_uri": "https://localhost:8080/"
        },
        "id": "vGRM1j5WeX6f",
        "outputId": "f587b70f-7fe7-4bae-9165-0ee4040986aa"
      },
      "execution_count": null,
      "outputs": [
        {
          "output_type": "stream",
          "name": "stdout",
          "text": [
            "12.34\n"
          ]
        }
      ]
    },
    {
      "cell_type": "code",
      "source": [
        "# возьмите любую строку, найдите ее длину. результат приведите к типу float\n",
        "string = \"hello Python\"\n",
        "length = len(string)\n",
        "result = float(length)\n",
        "print(result)"
      ],
      "metadata": {
        "colab": {
          "base_uri": "https://localhost:8080/"
        },
        "id": "I7G_mcE0d5_R",
        "outputId": "42178af5-6f79-4ff3-e5c4-6ec4e0e8b707"
      },
      "execution_count": null,
      "outputs": [
        {
          "output_type": "stream",
          "name": "stdout",
          "text": [
            "12.0\n"
          ]
        }
      ]
    },
    {
      "cell_type": "code",
      "source": [
        "# возьмите любую непустую строку, найдите ее длину. результат приведите к типу bool\n",
        "string = \"nice\"\n",
        "bool1 = bool(string)\n",
        "print(bool1)\n"
      ],
      "metadata": {
        "colab": {
          "base_uri": "https://localhost:8080/"
        },
        "id": "9yTrBMnTd7mB",
        "outputId": "07ab1f16-8ddb-4652-e215-fff705dfd6c9"
      },
      "execution_count": null,
      "outputs": [
        {
          "output_type": "stream",
          "name": "stdout",
          "text": [
            "True\n"
          ]
        }
      ]
    },
    {
      "cell_type": "code",
      "source": [
        "# возьмите ПУСТУЮ строку, найдите ее длину. результат приведите к типу bool\n",
        "string = \"\"\n",
        "bool2 = bool(string)\n",
        "print(bool2)"
      ],
      "metadata": {
        "colab": {
          "base_uri": "https://localhost:8080/"
        },
        "id": "5qdvUUmqfP4o",
        "outputId": "1b546b72-63ed-4080-9678-6e3bec76673d"
      },
      "execution_count": null,
      "outputs": [
        {
          "output_type": "stream",
          "name": "stdout",
          "text": [
            "False\n"
          ]
        }
      ]
    },
    {
      "cell_type": "markdown",
      "source": [
        "подумайте, какие числа при явном приведении в тип bool в результате дают `True`, а какие `False`"
      ],
      "metadata": {
        "id": "hYHwvxGKfdsY"
      }
    },
    {
      "cell_type": "code",
      "source": [
        "bool(5734743577)\n",
        "bool(3)\n",
        "bool(100)\n",
        "bool(1.1)\n",
        "bool(-5)\n",
        "\n",
        "bool(0)\n",
        "bool(0.0)"
      ],
      "metadata": {
        "id": "CmzNJQ24fW5t",
        "outputId": "ca3964a1-7bf1-48ab-9040-80ccc4aa4f65",
        "colab": {
          "base_uri": "https://localhost:8080/"
        }
      },
      "execution_count": null,
      "outputs": [
        {
          "output_type": "execute_result",
          "data": {
            "text/plain": [
              "False"
            ]
          },
          "metadata": {},
          "execution_count": 54
        }
      ]
    }
  ]
}