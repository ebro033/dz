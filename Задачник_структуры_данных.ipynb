{
  "nbformat": 4,
  "nbformat_minor": 0,
  "metadata": {
    "colab": {
      "provenance": [],
      "include_colab_link": true
    },
    "kernelspec": {
      "name": "python3",
      "display_name": "Python 3"
    },
    "language_info": {
      "name": "python"
    }
  },
  "cells": [
    {
      "cell_type": "markdown",
      "metadata": {
        "id": "view-in-github",
        "colab_type": "text"
      },
      "source": [
        "<a href=\"https://colab.research.google.com/github/ebro033/dz/blob/main/%D0%97%D0%B0%D0%B4%D0%B0%D1%87%D0%BD%D0%B8%D0%BA_%D1%81%D1%82%D1%80%D1%83%D0%BA%D1%82%D1%83%D1%80%D1%8B_%D0%B4%D0%B0%D0%BD%D0%BD%D1%8B%D1%85.ipynb\" target=\"_parent\"><img src=\"https://colab.research.google.com/assets/colab-badge.svg\" alt=\"Open In Colab\"/></a>"
      ]
    },
    {
      "cell_type": "markdown",
      "source": [
        "В этой практике отрабатываем работу со структурами данных:\n",
        "\n",
        "- Списки\n",
        "- Кортежи\n",
        "- Строки\n",
        "- Множества\n",
        "- Словари\n",
        "\n",
        "А также попрактикуемся в использовании comprehensions."
      ],
      "metadata": {
        "id": "k2d5YD7djbw1"
      }
    },
    {
      "cell_type": "markdown",
      "source": [
        "### Блок 1\n",
        "\n",
        "Отрабатываем умение работать со списками и производить различные операции над ними. В данном блоке заданий старайтесь проверять решение на разных списках, с разными значениями и разной длины, чтобы убедиться, что ваша программа - универсальна.\n"
      ],
      "metadata": {
        "id": "eMeb18Bdj2RM"
      }
    },
    {
      "cell_type": "markdown",
      "source": [
        "*Задача 0 - Перевернуть список*\n",
        "\n",
        "Дан список значений. Поменяйте местами первую половину списка и вторую половину списка.\n",
        "\n",
        "Проверьте, что ваш код:\n",
        "- занимает не более трех строчек кода для одного списка (одна из которых предназначена для вывода результата на экран)\n",
        "- используйте slicing\n",
        "\n"
      ],
      "metadata": {
        "id": "BnIcDBfmyQLC"
      }
    },
    {
      "cell_type": "code",
      "source": [
        "# опробируйте на списках разной длины (попробуйте свои собственные эксперименты)\n",
        "list1 = [1, 2, 3, 4, 5, 6, 7]\n",
        "list2 = [1, 2, 3, 4]"
      ],
      "metadata": {
        "id": "t7wTXfAHhPpw"
      },
      "execution_count": null,
      "outputs": []
    },
    {
      "cell_type": "code",
      "source": [
        "lst = [77777, 1, 2, 3, 4, 5, 6,456456, 111111,]\n",
        "lst = lst[len(lst)//2:] + lst[:len(lst)//2]\n",
        "print(lst)"
      ],
      "metadata": {
        "colab": {
          "base_uri": "https://localhost:8080/"
        },
        "id": "a5aem7YmhVe7",
        "outputId": "9a6a3475-c8ed-4ba4-8422-df29d0f661b3"
      },
      "execution_count": 3,
      "outputs": [
        {
          "output_type": "stream",
          "name": "stdout",
          "text": [
            "[4, 5, 6, 456456, 111111, 77777, 1, 2, 3]\n"
          ]
        }
      ]
    },
    {
      "cell_type": "markdown",
      "source": [
        "*Задача 1 - Сдвиг вправо*\n",
        "\n",
        "Дан список значений. Циклически сдвиньте элементы списка вправо:\n",
        "\n",
        "- `list[0]` переходит на `list[1]`\n",
        "- `list[1]` на место `list[2]`\n",
        "- и так далее\n",
        "- последний элемент переходит на место `list[0]`\n",
        "\n",
        "Используйте slicing\n",
        "\n"
      ],
      "metadata": {
        "id": "7mN0NMc1oj46"
      }
    },
    {
      "cell_type": "code",
      "source": [
        "list2 = [1, 2, 3, 4]"
      ],
      "metadata": {
        "id": "p8fYppXxpZiZ"
      },
      "execution_count": null,
      "outputs": []
    },
    {
      "cell_type": "code",
      "source": [
        "lst = [1, 2, 3, 4, 5, 11]\n",
        "lst = lst[-1:] + lst[:-1]\n",
        "print(lst)"
      ],
      "metadata": {
        "colab": {
          "base_uri": "https://localhost:8080/"
        },
        "id": "8nV3D0aGpRhG",
        "outputId": "7cd6ccff-7b79-4e66-d676-a4ed6aacb4a7"
      },
      "execution_count": 4,
      "outputs": [
        {
          "output_type": "stream",
          "name": "stdout",
          "text": [
            "[5, 1, 2, 3, 4]\n"
          ]
        }
      ]
    },
    {
      "cell_type": "markdown",
      "source": [
        "*Задача 2 - Отрабатываем операции над списками*\n",
        "\n",
        "В переменной `result` дан список. Произведите с ним следующие действия:\n",
        "- Оставьте в нем первую половину элементов.\n",
        "- Добавьте в текущий список столько же нулей, сколько сейчас элементов в `result`\n",
        "- Предпоследний элемент сделайте равным 100\n",
        "- Посчитайте сумму элементов в данном цикле и выведите ее на экран\n",
        "\n",
        "На каждом шаге выводите промежуточный результат\n",
        "\n"
      ],
      "metadata": {
        "id": "FPx-GtT4snUo"
      }
    },
    {
      "cell_type": "code",
      "source": [
        "result = [1, 100, -100, 23, 13, 78, 89, 90, 100, 0]"
      ],
      "metadata": {
        "id": "nluOYTIpuW6w"
      },
      "execution_count": null,
      "outputs": []
    },
    {
      "cell_type": "code",
      "source": [
        "result = [1, 2, 3,8, 19, 4, 5, 6, 7, 8]\n",
        "\n",
        "result = result[:len(result)//2]\n",
        "print(result)\n",
        "\n",
        "# Добавляем столько же нулей, сколько сейчас элементов в result\n",
        "result.extend([0] * len(result))\n",
        "print(result)\n",
        "\n",
        "result[-2] = 100\n",
        "\n",
        "print(result)\n",
        "sum_of_elements = sum(result)\n",
        "print(sum_of_elements)"
      ],
      "metadata": {
        "colab": {
          "base_uri": "https://localhost:8080/"
        },
        "id": "9nllw6qqucTs",
        "outputId": "a8817725-f392-4199-b6ae-57a1ebfd00c4"
      },
      "execution_count": 7,
      "outputs": [
        {
          "output_type": "stream",
          "name": "stdout",
          "text": [
            "[1, 2, 3, 8, 19]\n",
            "[1, 2, 3, 8, 19, 0, 0, 0, 0, 0]\n",
            "[1, 2, 3, 8, 19, 0, 0, 0, 100, 0]\n",
            "133\n"
          ]
        }
      ]
    },
    {
      "cell_type": "markdown",
      "source": [
        "*Задача 3 - Перестановка минимума и максимума*\n",
        "\n",
        "Дан список. С помощью кода найдите минимальные и максимальные элементы, переставьте их местами.\n",
        "Для нахождения индекса элемента по значению воспользуйтесь функцией индекс.\n",
        "\n"
      ],
      "metadata": {
        "id": "X5Xx7eBVwimB"
      }
    },
    {
      "cell_type": "code",
      "source": [
        "lst = [3, 1, 4, 1, 5, 9, 2, 6, 5, 3, 5]  # Пример списка\n",
        "\n",
        "min_v = min(lst)\n",
        "max_v = max(lst)\n",
        "\n",
        "index_min = lst.index(min_v)\n",
        "index_max = lst.index(max_v)\n",
        "\n",
        "lst[index_min], lst[index_max] = lst[index_max], lst[index_min]\n",
        "print(lst)"
      ],
      "metadata": {
        "id": "0ISqI0yZxBAD",
        "colab": {
          "base_uri": "https://localhost:8080/"
        },
        "outputId": "ce873605-07f3-4b13-821c-a22f4152f4d3"
      },
      "execution_count": 10,
      "outputs": [
        {
          "output_type": "stream",
          "name": "stdout",
          "text": [
            "[3, 9, 4, 1, 5, 1, 2, 6, 5, 3, 5]\n"
          ]
        }
      ]
    },
    {
      "cell_type": "code",
      "source": [
        "# индекс несущствующего элемента\n",
        "result.index(-1)"
      ],
      "metadata": {
        "colab": {
          "base_uri": "https://localhost:8080/",
          "height": 193
        },
        "id": "lJDwZ5xP0AJ-",
        "outputId": "af185ca2-d2c9-41ad-d17b-62a55ed1e4c8"
      },
      "execution_count": 9,
      "outputs": [
        {
          "output_type": "error",
          "ename": "ValueError",
          "evalue": "ignored",
          "traceback": [
            "\u001b[0;31m---------------------------------------------------------------------------\u001b[0m",
            "\u001b[0;31mValueError\u001b[0m                                Traceback (most recent call last)",
            "\u001b[0;32m<ipython-input-9-6fb4b239a045>\u001b[0m in \u001b[0;36m<cell line: 2>\u001b[0;34m()\u001b[0m\n\u001b[1;32m      1\u001b[0m \u001b[0;31m# индекс несущствующего элемента\u001b[0m\u001b[0;34m\u001b[0m\u001b[0;34m\u001b[0m\u001b[0m\n\u001b[0;32m----> 2\u001b[0;31m \u001b[0mresult\u001b[0m\u001b[0;34m.\u001b[0m\u001b[0mindex\u001b[0m\u001b[0;34m(\u001b[0m\u001b[0;34m-\u001b[0m\u001b[0;36m1\u001b[0m\u001b[0;34m)\u001b[0m\u001b[0;34m\u001b[0m\u001b[0;34m\u001b[0m\u001b[0m\n\u001b[0m",
            "\u001b[0;31mValueError\u001b[0m: -1 is not in list"
          ]
        }
      ]
    },
    {
      "cell_type": "code",
      "source": [],
      "metadata": {
        "colab": {
          "base_uri": "https://localhost:8080/"
        },
        "id": "Wp9eRkG2xDCy",
        "outputId": "0952e84a-2a17-42db-d483-b9fe0b9be30a"
      },
      "execution_count": null,
      "outputs": [
        {
          "output_type": "stream",
          "name": "stdout",
          "text": [
            "[1, 100, 12345, 23, 13, 78, 89, 90, -1000, 0]\n"
          ]
        }
      ]
    },
    {
      "cell_type": "markdown",
      "source": [
        "*Задача 4 - Соседи*\n",
        "\n",
        "Дан список. Выведите все элементы списка, которые строго больше предыдущего элемента. Для итерирования по элементам списка используйте цикл.\n",
        "\n"
      ],
      "metadata": {
        "id": "tVoPrLQljOuy"
      }
    },
    {
      "cell_type": "code",
      "source": [
        "list3 = [1, 2, 100, 99, 88, -1 , 0, 0, 10]"
      ],
      "metadata": {
        "id": "2rl-ccrOlU_c"
      },
      "execution_count": null,
      "outputs": []
    },
    {
      "cell_type": "code",
      "source": [
        "lst = [1, 99, 2, 784, 4, 1112, 7, 8, 8, 9]  # Пример списка\n",
        "\n",
        "for i in range(1, len(lst)):\n",
        "    if lst[i] > lst[i-1]:\n",
        "        print(lst[i])"
      ],
      "metadata": {
        "colab": {
          "base_uri": "https://localhost:8080/"
        },
        "id": "4M1FG9RXlcZO",
        "outputId": "9f4bdf51-a310-4a4f-a1e5-2c0866bd1807"
      },
      "execution_count": 12,
      "outputs": [
        {
          "output_type": "stream",
          "name": "stdout",
          "text": [
            "99\n",
            "784\n",
            "1112\n",
            "8\n",
            "9\n"
          ]
        }
      ]
    },
    {
      "cell_type": "markdown",
      "source": [
        "*Задача 5 - Найти все вхождения числа в список*\n",
        "\n",
        "Пользователь вводит последовательность чисел в одну строку через пробел. Рассчитайте, сколько из введенных чисел равно единице.\n",
        "\n"
      ],
      "metadata": {
        "id": "XB1RAMUNrbkS"
      }
    },
    {
      "cell_type": "code",
      "source": [
        "input_string = input(\"Введите числа через пробел: \")\n",
        "numbers = input_string.split()\n",
        "count_ones = numbers.count('1')\n",
        "print(f\"Кол-во единиц: {count_ones}\")"
      ],
      "metadata": {
        "colab": {
          "base_uri": "https://localhost:8080/"
        },
        "id": "7cuLZEcYrGX3",
        "outputId": "ec12489d-ba19-4daf-8c8e-4c5b56cc9e0f"
      },
      "execution_count": 13,
      "outputs": [
        {
          "output_type": "stream",
          "name": "stdout",
          "text": [
            "Введите числа через пробел: 1 4 5 7 3 78\n",
            "Количество единиц: 1\n"
          ]
        }
      ]
    },
    {
      "cell_type": "markdown",
      "source": [
        "*Задача 6 - Больше всех своих соседей (Дополнительная!)*\n",
        "\n",
        "Пользователь вводит последовательность чисел в одну строку через пробел. Рассчитайте, сколько из чисел строго больше двух своих соседей. Также выведите эти самые числа на экран.\n",
        "\n"
      ],
      "metadata": {
        "id": "56a13dOxmAht"
      }
    },
    {
      "cell_type": "code",
      "source": [],
      "metadata": {
        "colab": {
          "base_uri": "https://localhost:8080/"
        },
        "id": "-KlhMoo9mm31",
        "outputId": "f8fa26f5-3767-45c0-fefb-e47b67d1f064"
      },
      "execution_count": null,
      "outputs": [
        {
          "output_type": "stream",
          "name": "stdout",
          "text": [
            "Введите список чисел через пробел: 1 10 9 -1 3 5 7 7 7 9 8 9 9\n",
            "Список чисел: 10 9 Общее количество = 2\n"
          ]
        }
      ]
    },
    {
      "cell_type": "markdown",
      "source": [
        "*Задача 7 - Проредить массив (Дополнительная!)*\n",
        "\n",
        "Пользователь вводит последовательность чисел в одну строку через пробел. Создайте новый список, на базе исходного, в котором переставьте все нули списка в конец, а все ненулевые элементы оставьте в начале списка в том же порядке, в каком они были изначально. Выведите результат на экран.\n",
        "\n"
      ],
      "metadata": {
        "id": "4vB_C6Pzp84V"
      }
    },
    {
      "cell_type": "code",
      "source": [
        "input_string = input(\"Введите числа через пробел: \")\n",
        "numbers = [int(i) for i in input_string.split()]\n",
        "\n",
        "non = [num for num in numbers if num != 0]\n",
        "zero = [0] * numbers.count(0)\n",
        "\n",
        "result = non + zero\n",
        "print(result)"
      ],
      "metadata": {
        "colab": {
          "base_uri": "https://localhost:8080/"
        },
        "id": "YO_CIMgprEGz",
        "outputId": "766167e2-7441-492e-85e5-1422a6153ad7"
      },
      "execution_count": 14,
      "outputs": [
        {
          "output_type": "stream",
          "name": "stdout",
          "text": [
            "Введите числа через пробел: 1 3 5 000 0 3\n",
            "[1, 3, 5, 3, 0, 0]\n"
          ]
        }
      ]
    },
    {
      "cell_type": "markdown",
      "source": [
        "### Блок 2\n",
        "\n",
        "Отрабатываем умение работать с кортежами, множествами и словарями. В данном блоке заданий старайтесь проверять решение на разных наборах значений и разной длины, чтобы убедиться, что ваша программа - универсальна."
      ],
      "metadata": {
        "id": "qZafpq2br51j"
      }
    },
    {
      "cell_type": "markdown",
      "source": [
        "*Задача 0 - Общие элементы*\n",
        "\n",
        "Даны два списка. Найдите элементы, которые есть и в первом списке и во втором, выведите их количество на экран\n",
        "\n"
      ],
      "metadata": {
        "id": "CMa6fcuos0An"
      }
    },
    {
      "cell_type": "code",
      "source": [
        "list1 = [1, 2, 3, 4, 5]\n",
        "list2 = [4, 5, 6, 7, 8]\n",
        "\n",
        "common_elements = set(list1) & set(list2)\n",
        "print(len(common_elements))"
      ],
      "metadata": {
        "colab": {
          "base_uri": "https://localhost:8080/"
        },
        "id": "7-3TqHd6tBqZ",
        "outputId": "b3855fde-9e60-48bf-a9b4-44a1b9b2ba17"
      },
      "execution_count": 15,
      "outputs": [
        {
          "output_type": "stream",
          "name": "stdout",
          "text": [
            "2\n"
          ]
        }
      ]
    },
    {
      "cell_type": "markdown",
      "source": [
        "*Задача 1 - Уникальные элементы*\n",
        "\n",
        "Пользователь вводит числа на экран в одну строку через пробел. Выведите, сколько уникальных чисел было введено.\n",
        "\n"
      ],
      "metadata": {
        "id": "Wky-SIiVkRv1"
      }
    },
    {
      "cell_type": "code",
      "execution_count": 16,
      "metadata": {
        "colab": {
          "base_uri": "https://localhost:8080/"
        },
        "id": "fRclUqnsjYyk",
        "outputId": "9ff0e271-9f6a-404c-c6ed-cf7fdae97d7b"
      },
      "outputs": [
        {
          "output_type": "stream",
          "name": "stdout",
          "text": [
            "Введите числа через пробел: 1 2 3 54 6 4 2 9\n",
            "Кол-во уникальных чисел: 7\n"
          ]
        }
      ],
      "source": [
        "input_string = input(\"Введите числа через пробел: \")\n",
        "numbers = set(input_string.split())\n",
        "print(f\"Кол-во уникальных чисел: {len(numbers)}\")"
      ]
    },
    {
      "cell_type": "markdown",
      "source": [
        "*Задача 2 - Площадь*\n",
        "\n",
        "Даны списки из 2 элементов, каждый из которых является координатами точек A и B соответственно. Напишите функцию, которая ищет расстояние между этими точками. Найти расстояние между двумя точками можно по формуле Евклидова расстояния.\n",
        "\n",
        "https://ru.wikipedia.org/wiki/%D0%95%D0%B2%D0%BA%D0%BB%D0%B8%D0%B4%D0%BE%D0%B2%D0%B0_%D0%BC%D0%B5%D1%82%D1%80%D0%B8%D0%BA%D0%B0\n",
        "\n",
        "PS. Попробуйте запустить программу на разных точках с разными размерностями\n",
        "\n",
        "\n",
        "\n",
        "\n",
        "\n",
        "\n"
      ],
      "metadata": {
        "id": "48HI-niWhRhm"
      }
    },
    {
      "cell_type": "code",
      "source": [
        "coords = [(10, 10), (10, 11)]\n",
        "# coords = [(100, 20), (20, 20)]\n",
        "# coords = [(100, 91, 87), (80, 35, 70)]"
      ],
      "metadata": {
        "id": "s2K5kY3x5jCT"
      },
      "execution_count": null,
      "outputs": []
    },
    {
      "cell_type": "code",
      "source": [
        "a = coords[0]\n",
        "b = coords[1]\n",
        "a[0] + b[0]"
      ],
      "metadata": {
        "colab": {
          "base_uri": "https://localhost:8080/"
        },
        "id": "0vFcWerKsXR4",
        "outputId": "3aa530f7-b55d-49ed-c749-3ea11ab5e785"
      },
      "execution_count": null,
      "outputs": [
        {
          "output_type": "execute_result",
          "data": {
            "text/plain": [
              "20"
            ]
          },
          "metadata": {},
          "execution_count": 5
        }
      ]
    },
    {
      "cell_type": "markdown",
      "source": [
        "*Задача 3 - Количество повторений слов*\n",
        "\n",
        "В переменной `text` записан некоторый текст. Посчитайте частотность появления каждого уникального слова в тексте. Используйте для хранения частотности наиболее подходящую структуру данных.\n",
        "\n",
        "В результате выведите информацию по частотности каждого слова на экран.\n",
        "\n",
        "Словом будем считать последовательности символов, отделенную пробелом от следующей последовательности символов.\n",
        "\n",
        "\n",
        "\n",
        "\n"
      ],
      "metadata": {
        "id": "0DR8PiXZ91eA"
      }
    },
    {
      "cell_type": "code",
      "source": [
        "text = '''She sells sea shells on the sea shore \\\n",
        "The shells that she sells are sea shells I'm sure \\\n",
        "So if she sells sea shells on the sea shore \\\n",
        "I'm sure that the shells are sea shore shells'''"
      ],
      "metadata": {
        "id": "rDHxIyRupZTF"
      },
      "execution_count": null,
      "outputs": []
    },
    {
      "cell_type": "code",
      "source": [
        "text = \"В переменной text записан некоторый текст. Посчитайте частотность появления каждого уникального слова в тексте.\"\n",
        "\n",
        "#разделяемтекст на слова\n",
        "words = text.split()\n",
        "\n",
        "frequency = {}\n",
        "\n",
        "#считаем частотность\n",
        "for word in words:\n",
        "    if word in frequency:\n",
        "        frequency[word] += 1\n",
        "    else:\n",
        "        frequency[word] = 1\n",
        "\n",
        "for word, count in frequency.items():\n",
        "    print(f\"'{word}': {count}\")"
      ],
      "metadata": {
        "colab": {
          "base_uri": "https://localhost:8080/"
        },
        "id": "jvlHy8ey-1DU",
        "outputId": "b569ffc7-42c7-4869-b427-379343f2ab63"
      },
      "execution_count": 21,
      "outputs": [
        {
          "output_type": "stream",
          "name": "stdout",
          "text": [
            "'В': 1\n",
            "'переменной': 1\n",
            "'text': 1\n",
            "'записан': 1\n",
            "'некоторый': 1\n",
            "'текст.': 1\n",
            "'Посчитайте': 1\n",
            "'частотность': 1\n",
            "'появления': 1\n",
            "'каждого': 1\n",
            "'уникального': 1\n",
            "'слова': 1\n",
            "'в': 1\n",
            "'тексте.': 1\n"
          ]
        }
      ]
    },
    {
      "cell_type": "markdown",
      "source": [
        "*Задача 4 - Средний балл*\n",
        "\n",
        "В переменной `grades` записаны оценки учеников за экзамен по физике в разных классах одной параллели. Рассчитайте средний балл по каждому классу, и средний балл по параллели целиком. Выведите результаты на экран, округлив все значения с точностью до 2 знаков.\n",
        "\n",
        "\n",
        "\n",
        "\n"
      ],
      "metadata": {
        "id": "hYwTq9vvALRT"
      }
    },
    {
      "cell_type": "code",
      "source": [
        "grades = {\n",
        "    '10А': [5, 4, 2, 5, 2],\n",
        "    '10Б': [4, 2, 4, 3, 5],\n",
        "    '10В': [3, 3, 4, 5, 5]\n",
        "}\n",
        "\n",
        "total_sum = 0\n",
        "total_count = 0\n",
        "\n",
        "for klass, grade_list in grades.items():\n",
        "    class_average = sum(grade_list) / len(grade_list)\n",
        "    print(f\"Средний балл  {klass}: {class_average:.2f}\")\n",
        "\n",
        "    total_sum += sum(grade_list)\n",
        "    total_count += len(grade_list)\n",
        "\n",
        "parallel_average = total_sum / total_count\n",
        "print(f\"Средний балл по параллели: {parallel_average:.2f}\")\n"
      ],
      "metadata": {
        "id": "igEAnwZU_FZ9",
        "colab": {
          "base_uri": "https://localhost:8080/"
        },
        "outputId": "c5b8339f-1e98-415a-b3f7-2293238afcb4"
      },
      "execution_count": 22,
      "outputs": [
        {
          "output_type": "stream",
          "name": "stdout",
          "text": [
            "Средний балл  10А: 3.60\n",
            "Средний балл  10Б: 3.60\n",
            "Средний балл  10В: 4.00\n",
            "Средний балл по параллели: 3.73\n"
          ]
        }
      ]
    },
    {
      "cell_type": "code",
      "source": [],
      "metadata": {
        "colab": {
          "base_uri": "https://localhost:8080/"
        },
        "id": "x-xjF0BLBXMG",
        "outputId": "22859865-d881-4c1e-a43c-4c78ef39a973"
      },
      "execution_count": null,
      "outputs": [
        {
          "output_type": "stream",
          "name": "stdout",
          "text": [
            "средний балл 11A = 4.58\n",
            "средний балл 11B = 4.33\n",
            "средний балл 11C = 4.42\n",
            "средний балл 11D = 4.33\n",
            "средний балл 11E = 4.17\n",
            "средний балл параллели = 4.37\n"
          ]
        }
      ]
    },
    {
      "cell_type": "markdown",
      "source": [
        "*Задача 5 - Проверка на новизну*\n",
        "\n",
        "Пользователь вводит числа на экран в строку через пробел. Для каждого числа выведите `y` или `n`. `y` - если данное число до этого встречалось в списке, `n` - если нет.\n",
        "\n",
        "\n",
        "\n",
        "\n"
      ],
      "metadata": {
        "id": "6XCnZNmRDB1u"
      }
    },
    {
      "cell_type": "code",
      "source": [
        "input_string = input(\"Введите числа через пробел: \")\n",
        "numbers = input_string.split()\n",
        "\n",
        "seen_numbers = set()\n",
        "result = []\n",
        "\n",
        "for num in numbers:\n",
        "    if num in seen_numbers:\n",
        "        result.append('y')\n",
        "    else:\n",
        "        result.append('n')\n",
        "        seen_numbers.add(num)\n",
        "\n",
        "print(' '.join(result))"
      ],
      "metadata": {
        "colab": {
          "base_uri": "https://localhost:8080/"
        },
        "id": "J5m7PKXiB8Xh",
        "outputId": "a7023a34-57d5-40d7-aceb-542894c6257b"
      },
      "execution_count": 23,
      "outputs": [
        {
          "output_type": "stream",
          "name": "stdout",
          "text": [
            "Введите числа через пробел: 1 3 7 9 1 7 5\n",
            "n n n n y y n\n"
          ]
        }
      ]
    },
    {
      "cell_type": "markdown",
      "source": [
        "*Задача 6 - Значения роста* (Дополнительная!)\n",
        "\n",
        "В словаре `students` хранится рост студентов, измеренный на первом занятии физкультуры.\n",
        "Приходит новый студент, через строку ввода он указывает свои ФИО и рост. Запишите его данные в словарь, и выявите, какой по очереди он будет стоять в шеренге, отсортированной по убыванию роста (расчет в шеренге начинается единицы). Если у двух студентов рост одинаковый, наш студент будет стоять последним.\n",
        "\n",
        "\n",
        "\n",
        "\n",
        "\n"
      ],
      "metadata": {
        "id": "zsRpDR6eJmj6"
      }
    },
    {
      "cell_type": "code",
      "source": [
        "students = {\n",
        "    'ИвановИИ': 170,\n",
        "    'ЖдановИЮ': 183,\n",
        "    'ИвановаАА': 168,\n",
        "    'МаркинаГА': 169,\n",
        "    'ПетроваАВ': 172,\n",
        "    'ПотаповЮР': 175,\n",
        "    'ЛарионовСБ': 177\n",
        "}"
      ],
      "metadata": {
        "id": "mzEZbKmlEXkt"
      },
      "execution_count": null,
      "outputs": []
    },
    {
      "cell_type": "code",
      "source": [
        "students = {\n",
        "    'Грегорьев И.И.': 180,\n",
        "    'Петров А.П.': 175,\n",
        "    'Малышев С.И.': 182\n",
        "}\n",
        "\n",
        "name = input(\"Введите ФИО студента: \")\n",
        "height = int(input(\"Введите рост студента: \"))\n",
        "\n",
        "students[name] = height\n",
        "\n",
        "sorted_students = sorted(students.items(), key=lambda x: (-x[1], x[0]))\n",
        "\n",
        "position = sorted_students.index((name, height)) + 1\n",
        "\n",
        "print(f\"{name} будет стоять {position}-ым в шеренге.\")"
      ],
      "metadata": {
        "colab": {
          "base_uri": "https://localhost:8080/"
        },
        "id": "5FjaQFS1W9VO",
        "outputId": "5c3966f1-7246-4eff-fafd-27ebcf568d3b"
      },
      "execution_count": 24,
      "outputs": [
        {
          "output_type": "stream",
          "name": "stdout",
          "text": [
            "Введите ФИО студента: и и\n",
            "Введите рост студента: 177\n",
            "и и будет стоять 3-ым в шеренге.\n"
          ]
        }
      ]
    },
    {
      "cell_type": "markdown",
      "source": [
        "### Блок 3\n",
        "\n",
        "В этом блоке отрабатываем умение пользоваться list/dict comprehensions, а также функцию zip.\n",
        "\n",
        "11 пункт - дополнительный"
      ],
      "metadata": {
        "id": "UYAqME81K5bY"
      }
    },
    {
      "cell_type": "markdown",
      "source": [
        "*Задача 0 - Отрабатываем умение писать генераторы*\n",
        "\n",
        "Определите генераторы, по описанию в комментариях. Выведите результат генерации на экран\n",
        "\n"
      ],
      "metadata": {
        "id": "UnMeB573LjwN"
      }
    },
    {
      "cell_type": "code",
      "source": [
        "# 1. сгенерируйте список строк: user1, user2, user3 итд до user15\n"
      ],
      "metadata": {
        "colab": {
          "base_uri": "https://localhost:8080/"
        },
        "id": "Zav1H8kjPJ0Q",
        "outputId": "7055b61a-5291-4f49-eb98-b246327d38e2"
      },
      "execution_count": null,
      "outputs": [
        {
          "output_type": "execute_result",
          "data": {
            "text/plain": [
              "['user1',\n",
              " 'user2',\n",
              " 'user3',\n",
              " 'user4',\n",
              " 'user5',\n",
              " 'user6',\n",
              " 'user7',\n",
              " 'user8',\n",
              " 'user9',\n",
              " 'user10',\n",
              " 'user11',\n",
              " 'user12',\n",
              " 'user13',\n",
              " 'user14',\n",
              " 'user15']"
            ]
          },
          "metadata": {},
          "execution_count": 32
        }
      ]
    },
    {
      "cell_type": "code",
      "source": [
        "# 2. сгенерируйте список из 10 случайных значений от -10 до 10\n"
      ],
      "metadata": {
        "colab": {
          "base_uri": "https://localhost:8080/"
        },
        "id": "r3t-pHELSYYD",
        "outputId": "92e0052d-bccf-4404-a609-6c98705523bb"
      },
      "execution_count": null,
      "outputs": [
        {
          "output_type": "execute_result",
          "data": {
            "text/plain": [
              "[-1, -3, -8, 9, -2, 0, -1, 9, 9, 9]"
            ]
          },
          "metadata": {},
          "execution_count": 38
        }
      ]
    },
    {
      "cell_type": "code",
      "source": [
        "# 3. сгенерируйте список из квадратных корней всех чисел от 16 до 25 включительно. Округлите все значения до двух знаков после запятой\n"
      ],
      "metadata": {
        "colab": {
          "base_uri": "https://localhost:8080/"
        },
        "id": "6EUFvximNPcB",
        "outputId": "d8b1b452-cfcd-4d01-bfd0-07b025dd8ace"
      },
      "execution_count": null,
      "outputs": [
        {
          "output_type": "execute_result",
          "data": {
            "text/plain": [
              "[4.0, 4.12, 4.24, 4.36, 4.47, 4.58, 4.69, 4.8, 4.9, 5.0]"
            ]
          },
          "metadata": {},
          "execution_count": 27
        }
      ]
    },
    {
      "cell_type": "code",
      "source": [
        "# 4. сгенерируйте список из четных числа от 40 до 60 включительно без использования if\n"
      ],
      "metadata": {
        "colab": {
          "base_uri": "https://localhost:8080/"
        },
        "id": "LLCXlpiXLMk0",
        "outputId": "ed318ec3-a329-43c1-bace-37a61d0cb5f6"
      },
      "execution_count": null,
      "outputs": [
        {
          "output_type": "execute_result",
          "data": {
            "text/plain": [
              "[40, 42, 44, 46, 48, 50, 52, 54, 56, 58, 60]"
            ]
          },
          "metadata": {},
          "execution_count": 28
        }
      ]
    },
    {
      "cell_type": "code",
      "source": [
        "# 5. в предыдущем генераторе добавьте условие: если число делится на 6 - его не включать в список значений\n"
      ],
      "metadata": {
        "colab": {
          "base_uri": "https://localhost:8080/"
        },
        "id": "YztczXNtMJwL",
        "outputId": "b3d391c0-cee6-4a4c-b3c0-9d3bb8cb15d1"
      },
      "execution_count": null,
      "outputs": [
        {
          "output_type": "execute_result",
          "data": {
            "text/plain": [
              "[40, 44, 46, 50, 52, 56, 58]"
            ]
          },
          "metadata": {},
          "execution_count": 29
        }
      ]
    },
    {
      "cell_type": "code",
      "source": [
        "# 6. сгенерируйте список из четных числа от 40 до 60 включительно. Если какое то из четных чисел делится на 6 - вместо него поставьте символ 'Y'\n"
      ],
      "metadata": {
        "colab": {
          "base_uri": "https://localhost:8080/"
        },
        "id": "06j2ev47Oifd",
        "outputId": "a99dc220-b4f5-4dff-b6eb-b248af16e003"
      },
      "execution_count": null,
      "outputs": [
        {
          "output_type": "execute_result",
          "data": {
            "text/plain": [
              "[40, 'Y', 44, 46, 'Y', 50, 52, 'Y', 56, 58, 'Y']"
            ]
          },
          "metadata": {},
          "execution_count": 31
        }
      ]
    },
    {
      "cell_type": "code",
      "source": [
        "# 7. сгенерируйте словарь, в котором ключи это значения из списка list1, а значения - это коичество символов в названии ключа\n"
      ],
      "metadata": {
        "colab": {
          "base_uri": "https://localhost:8080/"
        },
        "id": "mJlNikBpO6TS",
        "outputId": "ffc464f1-379a-467a-bea5-9c7605a0920d"
      },
      "execution_count": null,
      "outputs": [
        {
          "output_type": "execute_result",
          "data": {
            "text/plain": [
              "{'yellow': 6,\n",
              " 'green': 5,\n",
              " 'blue': 4,\n",
              " 'red': 3,\n",
              " 'pink': 4,\n",
              " 'deep-blue': 9,\n",
              " 'white': 5}"
            ]
          },
          "metadata": {},
          "execution_count": 33
        }
      ]
    },
    {
      "cell_type": "code",
      "source": [
        "# 8. сгенерируйте словарь, в котором ключи это значения из списка, полученного в пункте 1, а значения из пункта 3\n"
      ],
      "metadata": {
        "colab": {
          "base_uri": "https://localhost:8080/"
        },
        "id": "RimXeAv4QAlW",
        "outputId": "edc48a79-2b33-484b-9fc6-f036c664e1ba"
      },
      "execution_count": null,
      "outputs": [
        {
          "output_type": "execute_result",
          "data": {
            "text/plain": [
              "{'user1': 4.0,\n",
              " 'user2': 4.12,\n",
              " 'user3': 4.24,\n",
              " 'user4': 4.36,\n",
              " 'user5': 4.47,\n",
              " 'user6': 4.58,\n",
              " 'user7': 4.69,\n",
              " 'user8': 4.8,\n",
              " 'user9': 4.9,\n",
              " 'user10': 5.0}"
            ]
          },
          "metadata": {},
          "execution_count": 34
        }
      ]
    },
    {
      "cell_type": "code",
      "source": [
        "# 9. дополните предыдущий пункт условием так, чтобы оставить только тех пользователей, у которых в значении не целое число\n"
      ],
      "metadata": {
        "colab": {
          "base_uri": "https://localhost:8080/"
        },
        "id": "cTnVuGoJQpDu",
        "outputId": "3699fb05-92b2-4622-e991-5d44843360e6"
      },
      "execution_count": null,
      "outputs": [
        {
          "output_type": "execute_result",
          "data": {
            "text/plain": [
              "{'user2': 4.12,\n",
              " 'user3': 4.24,\n",
              " 'user4': 4.36,\n",
              " 'user5': 4.47,\n",
              " 'user6': 4.58,\n",
              " 'user7': 4.69,\n",
              " 'user8': 4.8,\n",
              " 'user9': 4.9}"
            ]
          },
          "metadata": {},
          "execution_count": 37
        }
      ]
    },
    {
      "cell_type": "code",
      "source": [
        "# 10. дополните пункт 8 так, чтобы для всех пользователей из сгенерированных в пункте 1 создалась пара в итоговом словаре\n"
      ],
      "metadata": {
        "colab": {
          "base_uri": "https://localhost:8080/"
        },
        "id": "45R7RTT-Q3ze",
        "outputId": "45eb86b7-eafb-477c-e21a-6076b038e1b7"
      },
      "execution_count": null,
      "outputs": [
        {
          "output_type": "execute_result",
          "data": {
            "text/plain": [
              "{'user1': 4.0,\n",
              " 'user2': 4.12,\n",
              " 'user3': 4.24,\n",
              " 'user4': 4.36,\n",
              " 'user5': 4.47,\n",
              " 'user6': 4.58,\n",
              " 'user7': 4.69,\n",
              " 'user8': 4.8,\n",
              " 'user9': 4.9,\n",
              " 'user10': 5.0,\n",
              " 'user11': None,\n",
              " 'user12': None,\n",
              " 'user13': None,\n",
              " 'user14': None,\n",
              " 'user15': None}"
            ]
          },
          "metadata": {},
          "execution_count": 39
        }
      ]
    },
    {
      "cell_type": "code",
      "source": [
        "# 11. пользователь на экран в строку пишет значения для словаря в формате: коля:9 леша:10 ира:12 (Дополнительная!!!)\n",
        "# распарсите эти значения в словарь с помощью одной строчки кода\n"
      ],
      "metadata": {
        "colab": {
          "base_uri": "https://localhost:8080/"
        },
        "id": "HKswT_TcVCJM",
        "outputId": "3d500720-22ab-4366-c474-9895ef49524d"
      },
      "execution_count": null,
      "outputs": [
        {
          "name": "stdout",
          "output_type": "stream",
          "text": [
            "коля:9 леша:10 ира:12\n"
          ]
        },
        {
          "output_type": "execute_result",
          "data": {
            "text/plain": [
              "{'коля': '9', 'леша': '10', 'ира': '12'}"
            ]
          },
          "metadata": {},
          "execution_count": 47
        }
      ]
    },
    {
      "cell_type": "code",
      "source": [],
      "metadata": {
        "id": "969jh_hqd3fu"
      },
      "execution_count": null,
      "outputs": []
    }
  ]
}