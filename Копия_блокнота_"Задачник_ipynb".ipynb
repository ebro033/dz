{
  "nbformat": 4,
  "nbformat_minor": 0,
  "metadata": {
    "colab": {
      "provenance": [],
      "toc_visible": true,
      "include_colab_link": true
    },
    "kernelspec": {
      "name": "python3",
      "display_name": "Python 3"
    },
    "language_info": {
      "name": "python"
    }
  },
  "cells": [
    {
      "cell_type": "markdown",
      "metadata": {
        "id": "view-in-github",
        "colab_type": "text"
      },
      "source": [
        "<a href=\"https://colab.research.google.com/github/ebro033/dz/blob/main/%D0%9A%D0%BE%D0%BF%D0%B8%D1%8F_%D0%B1%D0%BB%D0%BE%D0%BA%D0%BD%D0%BE%D1%82%D0%B0_%22%D0%97%D0%B0%D0%B4%D0%B0%D1%87%D0%BD%D0%B8%D0%BA_ipynb%22.ipynb\" target=\"_parent\"><img src=\"https://colab.research.google.com/assets/colab-badge.svg\" alt=\"Open In Colab\"/></a>"
      ]
    },
    {
      "cell_type": "markdown",
      "source": [
        "В этой практике отрабатываем следующие инструменты:\n",
        "\n",
        "1. Переменные\n",
        "2. Логические и арифметические операторы\n",
        "3. Приведение типов\n",
        "4. Вывод на экран\n",
        "5. Условные операторы"
      ],
      "metadata": {
        "id": "8xKtj7lM7MjS"
      }
    },
    {
      "cell_type": "markdown",
      "source": [
        "### Блок 1\n",
        "\n",
        "Отрабатываем простые вычисления и вывод на экран.\n",
        "В задачах где требуется вывести ответ на экран используйте красивый форматированный вывод с помощью f-строк."
      ],
      "metadata": {
        "id": "P679KUGLCXTQ"
      }
    },
    {
      "cell_type": "markdown",
      "source": [
        "*Задача 0 - Пользовательская информация*\n",
        "\n",
        "Запросите у пользователя следующую информацию:\n",
        "1. Имя\n",
        "2. Год рождения\n",
        "\n",
        "С помощью одной единственной функции принт выведите на экран следующее приветственное сообщение, на места %ИМЯ%, %ГОД% подставив информацию пользователя.\n",
        "\n"
      ],
      "metadata": {
        "id": "8TrE45HwLfBI"
      }
    },
    {
      "cell_type": "markdown",
      "source": [
        "Вывод должен быть в следующем формате:\n",
        "```\n",
        "Приветствуем тебя\n",
        "%ИМЯ%\n",
        "%ГОД% года рождения\n",
        "```"
      ],
      "metadata": {
        "id": "JBzLvJsizvH2"
      }
    },
    {
      "cell_type": "code",
      "source": [
        "name = input(\"Введите ваше имя\")\n",
        "birth = input(\"Введите ваш год рождения\")\n",
        "print(f\"Приветствуем тебя\\n {name} \\n {birth}\")"
      ],
      "metadata": {
        "id": "XbSStFyTMHlX",
        "outputId": "3ec80671-6216-4c97-effd-7aa3aeedc336",
        "colab": {
          "base_uri": "https://localhost:8080/"
        }
      },
      "execution_count": null,
      "outputs": [
        {
          "output_type": "stream",
          "name": "stdout",
          "text": [
            "Введите ваше имяЭльдар\n",
            "Введите ваш год рождения26.02.2005\n",
            "Приветствуем тебя\n",
            " Эльдар \n",
            " 26.02.2005\n"
          ]
        }
      ]
    },
    {
      "cell_type": "markdown",
      "source": [
        "*Задача 1 - Поделить торт*\n",
        "\n",
        "Напишите программу, которая с точностью до двух знаков после запятой будет выводить сколько грамм торта достанется каждому исходя из ввведенной пользователем информации:\n",
        "\n",
        "1. Общий вес торта (может быть дробным числом!)\n",
        "2. Количество людей"
      ],
      "metadata": {
        "id": "2ZwxK-FM8HlO"
      }
    },
    {
      "cell_type": "code",
      "source": [
        "cake = float(input(\"Вес торта?\"))\n",
        "people = int(input(\"кол-во людей\"))\n",
        "result = cake / people\n",
        "print(result)"
      ],
      "metadata": {
        "colab": {
          "base_uri": "https://localhost:8080/"
        },
        "id": "BjSjxE1MCmZD",
        "outputId": "20888180-e58c-49fe-a9ec-77b092edba14"
      },
      "execution_count": null,
      "outputs": [
        {
          "output_type": "stream",
          "name": "stdout",
          "text": [
            "Вес торта?10\n",
            "кол-во людей4\n",
            "2.5\n"
          ]
        }
      ]
    },
    {
      "cell_type": "markdown",
      "source": [
        "*Задача 2 - Стоимость обедов*\n",
        "\n",
        "Напишите программу, которая рассчитает сколько денег нужно заплатить за n обедов. Рассчитайте сколько будет стоить обед, если стоимость одного обеда составляет количество `a` рублей и `b` копеек.\n",
        "\n",
        "Пользователь с экрана вводит одно единственное число n - количество обедов, которое он хочет приобрести"
      ],
      "metadata": {
        "id": "fcwclxcoQEhF"
      }
    },
    {
      "cell_type": "code",
      "source": [
        "a = 500\n",
        "b = 10\n",
        "n = int(input(\"Введите кол-во обедов\"))\n",
        "result0 = (a *100 + b ) * n\n",
        "result1 = result0 // 100\n",
        "result2 = result0 % 100\n",
        "print(f\" {result1} рублей, {result2} копеек\")"
      ],
      "metadata": {
        "id": "mzt1a2MIRcdi",
        "colab": {
          "base_uri": "https://localhost:8080/"
        },
        "outputId": "b389cf97-3fd0-4d4d-dfcf-a4f50804673d"
      },
      "execution_count": null,
      "outputs": [
        {
          "output_type": "stream",
          "name": "stdout",
          "text": [
            "Введите кол-во обедов2\n",
            " 1000 рублей, 20 копеек\n"
          ]
        }
      ]
    },
    {
      "cell_type": "markdown",
      "source": [
        "*Задача 3 - Предыдущее и следующее*\n",
        "\n",
        "Напишите программу, которая будет считывать с экрана одно единственное целое число в переменную `number`.\n",
        "Выведите предыдущее и следующее число после `number`, явно обозначив какое из них предыдущее а какое следующее"
      ],
      "metadata": {
        "id": "7KS3fOCa8OPw"
      }
    },
    {
      "cell_type": "code",
      "source": [
        "number = int(input(\"\"))\n",
        "before = number - 1\n",
        "after = number + 1\n",
        "print(f\"число:{number}\\n преыдущее: {before}\\n следующее: {after}\")"
      ],
      "metadata": {
        "colab": {
          "base_uri": "https://localhost:8080/"
        },
        "id": "KGVWYOBLBJyA",
        "outputId": "fc3f9ac5-2d7c-40e3-e03a-cb3e81c6a0e5"
      },
      "execution_count": null,
      "outputs": [
        {
          "output_type": "stream",
          "name": "stdout",
          "text": [
            "2346234645\n",
            "число:2346234645\n",
            " преыдущее: 2346234644\n",
            " следующее: 2346234646\n"
          ]
        }
      ]
    },
    {
      "cell_type": "markdown",
      "source": [
        "*Задача 4 - Следующее нечетное число*\n",
        "\n",
        "Напишите программу, которая будет считывать с экрана одно единственное целое положительное число в переменную `number`.\n",
        "Выведите следующее ближайшее нечетное число к данному. Не используйте оператор if."
      ],
      "metadata": {
        "id": "evXXM0BrKb4B"
      }
    },
    {
      "cell_type": "code",
      "source": [
        "number = int(input(\"\"))\n",
        "next_namber = number + 1 + (number % 2)\n",
        "print(f\"нечетное число: {next_namber}\")"
      ],
      "metadata": {
        "colab": {
          "base_uri": "https://localhost:8080/"
        },
        "id": "Qrk2EP4EKt_H",
        "outputId": "58b22d5b-ed43-4314-d383-d83b18146a7e"
      },
      "execution_count": null,
      "outputs": [
        {
          "output_type": "stream",
          "name": "stdout",
          "text": [
            "11\n",
            "нечетное число: 13\n"
          ]
        }
      ]
    },
    {
      "cell_type": "markdown",
      "source": [
        "*Задача 5 - Расчет суммы и произведения чисел*\n",
        "\n",
        "Напишите программу, которая считывает с экрана целое положительное трехзначное число и выводит в результате сумму и произведение цифр этого числа. Явно обозначьте что есть сумма, а что произведение.\n",
        "\n",
        "Программу нужно написать без использования встроенных функций Python"
      ],
      "metadata": {
        "id": "SO9zT5usBcZ5"
      }
    },
    {
      "cell_type": "code",
      "source": [
        "number = int(input(\"Введите целое трехзначное число\"))\n",
        "first = number // 100\n",
        "midle = (number // 10 ) % 10\n",
        "last = number % 10\n",
        "result1 = first + midle + last\n",
        "result2 = first * midle * last\n",
        "print(f\"Сумма цифр: {result1}\")\n",
        "print(f\"Произведение цифр: {result2}\")\n"
      ],
      "metadata": {
        "colab": {
          "base_uri": "https://localhost:8080/"
        },
        "id": "uiB7cbCL5q26",
        "outputId": "2fbbbc1d-162f-4458-8c42-ad0c6d103d71"
      },
      "execution_count": null,
      "outputs": [
        {
          "output_type": "stream",
          "name": "stdout",
          "text": [
            "Введите целое трехзначное число567\n",
            "Сумма цифр: 18\n",
            "Произведение цифр: 210\n"
          ]
        }
      ]
    },
    {
      "cell_type": "markdown",
      "source": [],
      "metadata": {
        "id": "mtc97gmvqU-W"
      }
    },
    {
      "cell_type": "markdown",
      "source": [
        "### Блок 2\n",
        "\n",
        "Отрабатываем условные операторы.\n",
        "В задачах где требуется вывести ответ на экран используйте красивый форматированный вывод с помощью f-строк."
      ],
      "metadata": {
        "id": "3WwdpGyhdHg2"
      }
    },
    {
      "cell_type": "markdown",
      "source": [
        "*Задача 0 - Минимум из 2 чисел*\n",
        "\n",
        "Напишите программу, которая выведет минимальное из двух введенных пользователем чисел на экран.\n",
        "\n",
        "В решении не должны использоваться встроенные функции Python min(), max()"
      ],
      "metadata": {
        "id": "CVD_zeOY5Non"
      }
    },
    {
      "cell_type": "code",
      "source": [
        "a, b = int(input(\"\")), int(input(\"\"))\n",
        "if a > b:\n",
        "    print(b)\n",
        "else:\n",
        "    print(a)"
      ],
      "metadata": {
        "colab": {
          "base_uri": "https://localhost:8080/"
        },
        "id": "l9ljdragdgwL",
        "outputId": "ec98c271-0121-4d8e-dede-4cdfbddbe388"
      },
      "execution_count": null,
      "outputs": [
        {
          "output_type": "stream",
          "name": "stdout",
          "text": [
            "2\n",
            "5\n",
            "2\n"
          ]
        }
      ]
    },
    {
      "cell_type": "markdown",
      "source": [
        "*Задача 1 - Опросник*\n",
        "\n",
        "Запросите у пользователя ответ на любой арифметический пример, который придумаете сами. Если пользователь ответил правильно, напишите ему молодец.\n",
        "Если пользователь ответил неверно, напишите - ответ неверный.\n",
        "По окончанию программы всем пользователям пожелайте удачи."
      ],
      "metadata": {
        "id": "xUqjW6MYADcw"
      }
    },
    {
      "cell_type": "code",
      "source": [
        "a = 8*9\n",
        "b = int(input(\" Сколько будет 8*9? \"))\n",
        "if a == b:\n",
        "  print(\"Молодец\")\n",
        "  print(\"УДАЧИ :) \")\n",
        "else:\n",
        "  print(\"ответ неверный\")\n",
        "  print(\"удачи :) \")"
      ],
      "metadata": {
        "colab": {
          "base_uri": "https://localhost:8080/"
        },
        "id": "aLd7Nov_g_Lg",
        "outputId": "a629af63-a4d7-4b02-adcf-c4080dadfb71"
      },
      "execution_count": null,
      "outputs": [
        {
          "output_type": "stream",
          "name": "stdout",
          "text": [
            " Сколько будет 8*9? 1\n",
            "ответ неверный\n",
            "удачи :) \n"
          ]
        }
      ]
    },
    {
      "cell_type": "markdown",
      "source": [
        "*Задача 2 - Рассчитать сдачу*\n",
        "\n",
        "Посчитайте сдачу, которую необходимо выдать клиенту, исходя из введенной с консоли информации:\n",
        "\n",
        "1. Сумма, которую должен заплатить клиент\n",
        "2. Количество денег, которое дает клиент\n",
        "\n",
        "Если количество денег, которое дает клиент меньше, чем необходимая сумма оплаты - вывести что денег недостаточно."
      ],
      "metadata": {
        "id": "-vq14B-d7dw8"
      }
    },
    {
      "cell_type": "code",
      "source": [
        "a = int(input(\"Заплатите: \"))\n",
        "b = int(input(\"Вы дали: \"))\n",
        "c = (a-b)\n",
        "\n",
        "if a == b:\n",
        "  print(\"Все верно!\")\n",
        "elif a < b:\n",
        "    print(\"Вы дали больше \")\n",
        "else:\n",
        "  print(f\"Сдача: \\n{c} \")\n",
        "\n",
        "\n"
      ],
      "metadata": {
        "id": "ptiF8UTMetgr"
      },
      "execution_count": null,
      "outputs": []
    },
    {
      "cell_type": "markdown",
      "source": [
        "*Задача 3 - Скидка на копеечку*\n",
        "\n",
        "Модифицируйте код предыдущей задачи таким образом, если сдача получается дробным числом, округлите вверх до ближайшего целого.\n",
        "\n",
        "Например: сдача 12.3 -> 13"
      ],
      "metadata": {
        "id": "8LyZEBce9vi8"
      }
    },
    {
      "cell_type": "code",
      "source": [
        "a = float(input(\"Заплатите: \"))\n",
        "b = float(input(\"Вы дали: \"))\n",
        "c = (a-b)\n",
        "num = round(c)\n",
        "if a == b:\n",
        "  print(\"Все верно!\")\n",
        "elif a < b:\n",
        "    print(\"Вы дали больше \")\n",
        "else:\n",
        "  print(f\"сдача: \\n{num} \")"
      ],
      "metadata": {
        "id": "ebAcDhxhGNkN",
        "colab": {
          "base_uri": "https://localhost:8080/"
        },
        "outputId": "8f64428c-ad23-4717-8537-de7a96ad6c62"
      },
      "execution_count": null,
      "outputs": [
        {
          "output_type": "stream",
          "name": "stdout",
          "text": [
            "Заплатите: 100\n",
            "Вы дали: 11.2\n",
            "сдача: \n",
            "89 \n"
          ]
        }
      ]
    },
    {
      "cell_type": "markdown",
      "source": [
        "*Задача 4 - Високосный год*\n",
        "\n",
        "Напишите программу, которая определит является ли год високосным.\n",
        "Правила определения високосного года (вырезка из Wikipedia)\n",
        "\n",
        "- год, номер которого кратен 400, — високосный;\n",
        "- остальные годы, номер которых кратен 100, — невисокосные (например, годы 1700, 1800, 1900, 2100, 2200, 2300);\n",
        "- остальные годы, номер которых кратен 4\n",
        "- все остальные годы — невисокосные.\n",
        "\n",
        "Для решения задачи используйте конструкцию if-else"
      ],
      "metadata": {
        "id": "eX7N8CLNDS_f"
      }
    },
    {
      "cell_type": "code",
      "source": [
        "def data(year):\n",
        "  if year % 4 == 0\n",
        "      if year % 100 == 0:\n",
        "        if year % 400 ==0:\n",
        "          return True\n",
        "        else:\n",
        "         return False\n",
        "      else:\n",
        "        return False\n",
        "a = int(input(\"Введите год\"))\n",
        "if data(year):\n",
        "  print(f\"{year} - высокостный год\")\n",
        "  print(f\"{year} - не высокостный год\")\n",
        "\n",
        "\n"
      ],
      "metadata": {
        "id": "4eu1JDytCVcp",
        "colab": {
          "base_uri": "https://localhost:8080/"
        },
        "outputId": "d2a578f3-9aae-41ec-8df8-5304b3ea815e"
      },
      "execution_count": null,
      "outputs": [
        {
          "output_type": "stream",
          "name": "stdout",
          "text": [
            "1940\n",
            "високосный\n"
          ]
        }
      ]
    },
    {
      "cell_type": "markdown",
      "source": [
        "*Задача 6 - Округление*\n",
        "\n",
        "Пользователь через консоль вводит количество конфет, которое нужно поделить между тремя детьми. Напишите программу, которая будет рассчитывать сколько конфет кому достанется.\n",
        "\n",
        "Если конфеты не делятся поровну, то кому то из детей можно давать на одну конфету больше или меньше. То есть можно разбить так: 4, 4, 3. Или: 4, 4, 5. Дробить конфеты нельзя.\n",
        "\n",
        "\n",
        "P.S. Вам может быть полезна функция round для округления чисел до ближайшего целого"
      ],
      "metadata": {
        "id": "90m58hH8mJQ7"
      }
    },
    {
      "cell_type": "code",
      "source": [
        "def kol(candies, children):\n",
        "   childer = 3\n",
        "   kol = candies // children\n",
        "   ost = candies % children\n",
        "if ost == 0:\n",
        "  return kol * children\n",
        "           else:\n",
        "    dist = [col] * (children - ost )\n"
      ],
      "metadata": {
        "id": "09W90t2oAC7L",
        "colab": {
          "base_uri": "https://localhost:8080/",
          "height": 141
        },
        "outputId": "e4fd452e-dda2-452e-8c55-e7d72186ce7a"
      },
      "execution_count": null,
      "outputs": [
        {
          "output_type": "error",
          "ename": "IndentationError",
          "evalue": "ignored",
          "traceback": [
            "\u001b[0;36m  File \u001b[0;32m\"<tokenize>\"\u001b[0;36m, line \u001b[0;32m5\u001b[0m\n\u001b[0;31m    if ost == 0:\u001b[0m\n\u001b[0m    ^\u001b[0m\n\u001b[0;31mIndentationError\u001b[0m\u001b[0;31m:\u001b[0m unindent does not match any outer indentation level\n"
          ]
        }
      ]
    },
    {
      "cell_type": "markdown",
      "source": [
        "*Задача 7 - Минимальное из трех*\n",
        "\n",
        "Напишите программу, которая выведет минимальное из трех введенных пользователем чисел на экран.\n",
        "\n",
        "В решении не должны использоваться встроенные функции Python min(), max()"
      ],
      "metadata": {
        "id": "0HcdIqbWmsb-"
      }
    },
    {
      "cell_type": "code",
      "source": [
        "num1 = int(input(\"Введите первое число\"))\n",
        "num2 = int(input(\"Введите второе число\"))\n",
        "num3 = int(input(\"Введите третье число\"))\n",
        "\n",
        "min_num = num1\n",
        "if num2 < min_num:\n",
        "  min_num = num2\n",
        "if num3 < min_num:\n",
        "  min_num = num3\n",
        "\n",
        "print(f\"Минимальное число: {min_num}\")\n",
        "\n",
        "\n"
      ],
      "metadata": {
        "id": "oCU3YfRsAjMy",
        "colab": {
          "base_uri": "https://localhost:8080/"
        },
        "outputId": "22c33dc6-1820-417c-981d-cd86ecea77d4"
      },
      "execution_count": null,
      "outputs": [
        {
          "output_type": "stream",
          "name": "stdout",
          "text": [
            "Введите первое число199\n",
            "Введите второе число10000\n",
            "Введите третье число88\n",
            "Минимальное число: 88\n"
          ]
        }
      ]
    },
    {
      "cell_type": "markdown",
      "source": [
        "*Задача 8 - Одна программа двумя способами*\n",
        "\n",
        "Напишите программу, которая считывает с консоли значение введенное с консоли. Если пользователь ничего не ввел - она выводит, что \"Ничего не получено. Если что-то получено, то программа просто выводит это значение на экран.\n",
        "\n",
        "Напишите две реализации программы:\n",
        "- с помощью if\n",
        "- с помощью or"
      ],
      "metadata": {
        "id": "gQ2392OnpCrd"
      }
    },
    {
      "cell_type": "code",
      "source": [
        "user = input(\"Введите значение:\")\n",
        "if user:\n",
        "  print(user)\n",
        "else:\n",
        "  print(\"Вы ничего не Ввели\")\n",
        "\n",
        "\n",
        "\n",
        "user1 = input(\"Введите значение:\")\n",
        "print(user1 or \"Ничего не полученно\")"
      ],
      "metadata": {
        "colab": {
          "base_uri": "https://localhost:8080/"
        },
        "id": "EfYxLe-Om22f",
        "outputId": "6fadee88-8960-434a-86e3-b8bf4f7a22eb"
      },
      "execution_count": null,
      "outputs": [
        {
          "output_type": "stream",
          "name": "stdout",
          "text": [
            "Введите значение:\n",
            "Вы ничего не Ввели\n",
            "Введите значение:\n",
            "Ничего не полученно\n"
          ]
        }
      ]
    },
    {
      "cell_type": "markdown",
      "source": [
        "*Задача 9 - Сортировка*\n",
        "\n",
        "Напишите программу, которая считывает с экрана три числа и сортирует их в порядке неубывания"
      ],
      "metadata": {
        "id": "LOqCkJRnyfkF"
      }
    },
    {
      "cell_type": "code",
      "source": [
        "num1 = float(input(\"Введите первое число\"))\n",
        "num3 = float(input(\"Введите второе число\"))\n",
        "num3 = float(input(\"Введите третье число\"))\n",
        "number = sorted([num1, num2, num3])\n",
        "print(number)"
      ],
      "metadata": {
        "id": "ZPzlvbFoye8B",
        "colab": {
          "base_uri": "https://localhost:8080/",
          "height": 280
        },
        "outputId": "6bab3574-56b1-49d6-a48a-b688e98f362b"
      },
      "execution_count": 22,
      "outputs": [
        {
          "name": "stdout",
          "output_type": "stream",
          "text": [
            "Введите первое число8\n",
            "Введите второе число2\n",
            "Введите третье число3\n"
          ]
        },
        {
          "output_type": "error",
          "ename": "TypeError",
          "evalue": "ignored",
          "traceback": [
            "\u001b[0;31m---------------------------------------------------------------------------\u001b[0m",
            "\u001b[0;31mTypeError\u001b[0m                                 Traceback (most recent call last)",
            "\u001b[0;32m<ipython-input-22-1f41ee7f8ff9>\u001b[0m in \u001b[0;36m<cell line: 4>\u001b[0;34m()\u001b[0m\n\u001b[1;32m      2\u001b[0m \u001b[0mnum3\u001b[0m \u001b[0;34m=\u001b[0m \u001b[0mfloat\u001b[0m\u001b[0;34m(\u001b[0m\u001b[0minput\u001b[0m\u001b[0;34m(\u001b[0m\u001b[0;34m\"Введите второе число\"\u001b[0m\u001b[0;34m)\u001b[0m\u001b[0;34m)\u001b[0m\u001b[0;34m\u001b[0m\u001b[0;34m\u001b[0m\u001b[0m\n\u001b[1;32m      3\u001b[0m \u001b[0mnum3\u001b[0m \u001b[0;34m=\u001b[0m \u001b[0mfloat\u001b[0m\u001b[0;34m(\u001b[0m\u001b[0minput\u001b[0m\u001b[0;34m(\u001b[0m\u001b[0;34m\"Введите третье число\"\u001b[0m\u001b[0;34m)\u001b[0m\u001b[0;34m)\u001b[0m\u001b[0;34m\u001b[0m\u001b[0;34m\u001b[0m\u001b[0m\n\u001b[0;32m----> 4\u001b[0;31m \u001b[0mnumber\u001b[0m \u001b[0;34m=\u001b[0m \u001b[0msorted\u001b[0m\u001b[0;34m(\u001b[0m\u001b[0mnum1\u001b[0m\u001b[0;34m,\u001b[0m \u001b[0mnum2\u001b[0m\u001b[0;34m,\u001b[0m \u001b[0mnum3\u001b[0m\u001b[0;34m)\u001b[0m\u001b[0;34m\u001b[0m\u001b[0;34m\u001b[0m\u001b[0m\n\u001b[0m\u001b[1;32m      5\u001b[0m \u001b[0mprint\u001b[0m\u001b[0;34m(\u001b[0m\u001b[0mnumber\u001b[0m\u001b[0;34m)\u001b[0m\u001b[0;34m\u001b[0m\u001b[0;34m\u001b[0m\u001b[0m\n",
            "\u001b[0;31mTypeError\u001b[0m: sorted expected 1 argument, got 3"
          ]
        }
      ]
    },
    {
      "cell_type": "markdown",
      "source": [
        "*Задача Дополнительная!*\n",
        "\n",
        "Пользователь вводит два числа которые нужно поделить друг на друга.\n",
        "Напишите программу, которая поделит данные два числа.\n",
        "Если вдруг в знаменателе окажется 0 и деление произвести нельзя, выведите в результате 0\n",
        "\n",
        "Не используйте конструкции if."
      ],
      "metadata": {
        "id": "1oE54ruvuXYz"
      }
    },
    {
      "cell_type": "code",
      "source": [],
      "metadata": {
        "id": "QJR_haLfua1E"
      },
      "execution_count": null,
      "outputs": []
    },
    {
      "cell_type": "markdown",
      "source": [
        "### Блок 3\n",
        "\n",
        "Работа со строками"
      ],
      "metadata": {
        "id": "HChIds4FFaAC"
      }
    },
    {
      "cell_type": "code",
      "source": [
        "# приведение в нижний регистр\n",
        "'ПРИВЕт'.lower()"
      ],
      "metadata": {
        "colab": {
          "base_uri": "https://localhost:8080/",
          "height": 35
        },
        "id": "N2QlbECauXp_",
        "outputId": "0826117d-1a89-446b-d94d-e794f0e0ae22"
      },
      "execution_count": 27,
      "outputs": [
        {
          "output_type": "execute_result",
          "data": {
            "text/plain": [
              "'привет'"
            ],
            "application/vnd.google.colaboratory.intrinsic+json": {
              "type": "string"
            }
          },
          "metadata": {},
          "execution_count": 27
        }
      ]
    },
    {
      "cell_type": "code",
      "source": [
        "# приведение в верхний регистр\n",
        "'Привет'.upper()"
      ],
      "metadata": {
        "colab": {
          "base_uri": "https://localhost:8080/",
          "height": 35
        },
        "id": "Xhoej5buUUcr",
        "outputId": "9957d4e5-60f3-4a4f-f94a-2f96867f9b79"
      },
      "execution_count": 26,
      "outputs": [
        {
          "output_type": "execute_result",
          "data": {
            "text/plain": [
              "'ПРИВЕТ'"
            ],
            "application/vnd.google.colaboratory.intrinsic+json": {
              "type": "string"
            }
          },
          "metadata": {},
          "execution_count": 26
        }
      ]
    },
    {
      "cell_type": "code",
      "source": [
        "# нахождение подстроки в строке\n",
        "'здраствуйте! привет! как дела?'.find('как')"
      ],
      "metadata": {
        "colab": {
          "base_uri": "https://localhost:8080/"
        },
        "id": "6wvr51S0UZUN",
        "outputId": "d1ec4157-d471-4416-c166-7431d30f7ba7"
      },
      "execution_count": 24,
      "outputs": [
        {
          "output_type": "execute_result",
          "data": {
            "text/plain": [
              "21"
            ]
          },
          "metadata": {},
          "execution_count": 24
        }
      ]
    },
    {
      "cell_type": "code",
      "source": [
        "# нахождение подстроки в строке\n",
        "'привет! как дела?'.find('куку')"
      ],
      "metadata": {
        "colab": {
          "base_uri": "https://localhost:8080/"
        },
        "id": "R86hlGTLUmZJ",
        "outputId": "e47e8e07-786f-4b16-a9f4-4cf8bbeb2d73"
      },
      "execution_count": 25,
      "outputs": [
        {
          "output_type": "execute_result",
          "data": {
            "text/plain": [
              "-1"
            ]
          },
          "metadata": {},
          "execution_count": 25
        }
      ]
    },
    {
      "cell_type": "code",
      "source": [
        "# замена значений в строке\n",
        "'<<привет'.replace('<<', '')"
      ],
      "metadata": {
        "colab": {
          "base_uri": "https://localhost:8080/",
          "height": 35
        },
        "id": "4F3kGz0kUsDl",
        "outputId": "8948cf71-c98c-4a48-973e-38c1ee5c0720"
      },
      "execution_count": null,
      "outputs": [
        {
          "output_type": "execute_result",
          "data": {
            "text/plain": [
              "'привет'"
            ],
            "application/vnd.google.colaboratory.intrinsic+json": {
              "type": "string"
            }
          },
          "metadata": {},
          "execution_count": 8
        }
      ]
    },
    {
      "cell_type": "code",
      "source": [
        "'как дела' < 'привет'"
      ],
      "metadata": {
        "colab": {
          "base_uri": "https://localhost:8080/"
        },
        "id": "JgRLB0ogYkIQ",
        "outputId": "8fcb8871-564d-4941-928f-27835410995c"
      },
      "execution_count": null,
      "outputs": [
        {
          "output_type": "execute_result",
          "data": {
            "text/plain": [
              "True"
            ]
          },
          "metadata": {},
          "execution_count": 9
        }
      ]
    },
    {
      "cell_type": "code",
      "source": [
        "# Функция Python символ и возвращает его код в Юникоде\n",
        "ord('о')"
      ],
      "metadata": {
        "colab": {
          "base_uri": "https://localhost:8080/"
        },
        "id": "7vk7NBWfYpw2",
        "outputId": "a2302d05-78e9-47a9-9830-8660b5beea8d"
      },
      "execution_count": 30,
      "outputs": [
        {
          "output_type": "execute_result",
          "data": {
            "text/plain": [
              "1086"
            ]
          },
          "metadata": {},
          "execution_count": 30
        }
      ]
    },
    {
      "cell_type": "code",
      "source": [
        "# обратно\n",
        "chr(1087)"
      ],
      "metadata": {
        "colab": {
          "base_uri": "https://localhost:8080/",
          "height": 35
        },
        "id": "eLS7gwJiZGRQ",
        "outputId": "cf3b7056-a95a-426d-fd4f-e0e766dbd0e3"
      },
      "execution_count": 29,
      "outputs": [
        {
          "output_type": "execute_result",
          "data": {
            "text/plain": [
              "'п'"
            ],
            "application/vnd.google.colaboratory.intrinsic+json": {
              "type": "string"
            }
          },
          "metadata": {},
          "execution_count": 29
        }
      ]
    },
    {
      "cell_type": "code",
      "source": [
        "chr(1088)"
      ],
      "metadata": {
        "id": "EuOgDvAMPldp",
        "outputId": "2999ab8c-a94c-4476-993b-6be1507ea2f5",
        "colab": {
          "base_uri": "https://localhost:8080/",
          "height": 35
        }
      },
      "execution_count": null,
      "outputs": [
        {
          "output_type": "execute_result",
          "data": {
            "text/plain": [
              "'р'"
            ],
            "application/vnd.google.colaboratory.intrinsic+json": {
              "type": "string"
            }
          },
          "metadata": {},
          "execution_count": 12
        }
      ]
    },
    {
      "cell_type": "markdown",
      "source": [
        "*Задача 0 - Диалог*\n",
        "\n",
        "Напишите программу, которая корректно умеет отвечать на следующие реплики:\n",
        "- привет\n",
        "- как дела\n",
        "- какая погода\n",
        "\n",
        "Заметьте, пользователь может писать эти реплики большими/маленькими или большими и маленькими буквами. Он также может ставить лишние знаки препинания. Тем не менее реплику надо все равно распознавать и давать на нее ответ."
      ],
      "metadata": {
        "id": "B-oV_RErVQOn"
      }
    },
    {
      "cell_type": "code",
      "source": [],
      "metadata": {
        "id": "wfM4XfEmWDpB"
      },
      "execution_count": null,
      "outputs": []
    },
    {
      "cell_type": "markdown",
      "source": [
        "*Задача 1 - Алфавит*\n",
        "\n",
        "Напишите программу, которая будет выводить следующую букву после введенной в строке ввода. Если в строке ввода введена не одна буква, вывести сообщение о том, что пользователь ошибся, если введен символ - выдать сообщение о том, что введен символ."
      ],
      "metadata": {
        "id": "ZwiKtIhQWEW5"
      }
    },
    {
      "cell_type": "code",
      "source": [
        "user = input(\"Введие одну букву:\")\n",
        "if len(user) != 1 or not user.isalpha():\n",
        "    print(\"Введите ОДНУ букву!!!\")\n",
        "elif user == \"_\":\n",
        "    print(\"Вы ввели символ\")\n",
        "else:\n",
        "  next_letter = chr(ord(user)+1)\n",
        "  print(next_letter)\n"
      ],
      "metadata": {
        "id": "E-9ilXgUYjRA",
        "colab": {
          "base_uri": "https://localhost:8080/"
        },
        "outputId": "fae956eb-b3a9-4483-9a6d-133311691e95"
      },
      "execution_count": 34,
      "outputs": [
        {
          "output_type": "stream",
          "name": "stdout",
          "text": [
            "Введие одну букву:аа\n",
            "Введите ОДНУ букву!!!\n"
          ]
        }
      ]
    },
    {
      "cell_type": "markdown",
      "source": [
        "ДЗ:\n",
        "\n",
        "Пройти задачи на Яндекс Контесте\n",
        "https://new.contest.yandex.ru/41233/statistics"
      ],
      "metadata": {
        "id": "pG-N3oPDS3EE"
      }
    },
    {
      "cell_type": "code",
      "source": [],
      "metadata": {
        "id": "jIi_vGvdS-Ew"
      },
      "execution_count": null,
      "outputs": []
    }
  ]
}