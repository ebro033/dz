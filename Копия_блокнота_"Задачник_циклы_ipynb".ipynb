{
  "nbformat": 4,
  "nbformat_minor": 0,
  "metadata": {
    "colab": {
      "provenance": [],
      "toc_visible": true,
      "include_colab_link": true
    },
    "kernelspec": {
      "name": "python3",
      "display_name": "Python 3"
    },
    "language_info": {
      "name": "python"
    }
  },
  "cells": [
    {
      "cell_type": "markdown",
      "metadata": {
        "id": "view-in-github",
        "colab_type": "text"
      },
      "source": [
        "<a href=\"https://colab.research.google.com/github/ebro033/dz/blob/main/%D0%9A%D0%BE%D0%BF%D0%B8%D1%8F_%D0%B1%D0%BB%D0%BE%D0%BA%D0%BD%D0%BE%D1%82%D0%B0_%22%D0%97%D0%B0%D0%B4%D0%B0%D1%87%D0%BD%D0%B8%D0%BA_%D1%86%D0%B8%D0%BA%D0%BB%D1%8B_ipynb%22.ipynb\" target=\"_parent\"><img src=\"https://colab.research.google.com/assets/colab-badge.svg\" alt=\"Open In Colab\"/></a>"
      ]
    },
    {
      "cell_type": "markdown",
      "source": [
        "В этой практике отрабатываем следующие инструменты:\n",
        "\n",
        "- Циклы\n",
        "- Циклы + условные операторы\n",
        "- Обработку исключений"
      ],
      "metadata": {
        "id": "BYcdPThcHmcw"
      }
    },
    {
      "cell_type": "markdown",
      "source": [
        "### Блок 1\n",
        "\n",
        "Отрабатываем умение пользоваться циклами. В этом блоке задачи будут нацелены на использование только конструкций циклов `while`, `for`, конструкции `if-else` использовать нельзя.\n"
      ],
      "metadata": {
        "id": "f1vm1gpfHwEM"
      }
    },
    {
      "cell_type": "markdown",
      "source": [
        "*Задача 0 - Используем Range*\n",
        "\n",
        "Напишите программу, которая будет считывать с консоли два числа `a` и `b`.\n",
        "Далее выведите все числа от `a` до `b` включительно."
      ],
      "metadata": {
        "id": "feXi-pySJgN-"
      }
    },
    {
      "cell_type": "code",
      "execution_count": null,
      "metadata": {
        "colab": {
          "base_uri": "https://localhost:8080/"
        },
        "id": "WLZpX0ubHfu1",
        "outputId": "1388bb8f-dfe4-4dff-dbf8-89a3f139bec6"
      },
      "outputs": [
        {
          "output_type": "stream",
          "name": "stdout",
          "text": [
            "Введите число a2\n",
            "Введите число b8\n",
            "2\n",
            "3\n",
            "4\n",
            "5\n",
            "6\n",
            "7\n",
            "8\n"
          ]
        }
      ],
      "source": [
        "a = int(input(\"Введите число a\"))\n",
        "b = int(input(\"Введите число b\"))\n",
        "while a<= b:\n",
        "  print(a)\n",
        "  a += 1"
      ]
    },
    {
      "cell_type": "markdown",
      "source": [
        "*Задача 1 -  Квадратный корень*\n",
        "\n",
        "Напишите программу, которая будет считывать с консоли одно единственное число `b`.\n",
        "\n",
        "Выведите все квадратные корни чисел от 1 до `b` (не включительно) с точностью до двух знаков после запятой. Соблюдайте формат вывода, приведенный в примере."
      ],
      "metadata": {
        "id": "PMFNe-V1RFvZ"
      }
    },
    {
      "cell_type": "code",
      "source": [
        "import math\n",
        "b = int(input())\n",
        "number = 1\n",
        "while number <= b:\n",
        "  root = math.sqrt(number)\n",
        "  print(f\"{root:2f}\")\n",
        "  number +=1\n",
        "\n"
      ],
      "metadata": {
        "colab": {
          "base_uri": "https://localhost:8080/"
        },
        "id": "0ByT8qoYS4VD",
        "outputId": "d7634e1a-e5c6-4a2e-8c16-f278939326b6"
      },
      "execution_count": null,
      "outputs": [
        {
          "output_type": "stream",
          "name": "stdout",
          "text": [
            "8\n",
            "1.000000\n",
            "1.414214\n",
            "1.732051\n",
            "2.000000\n",
            "2.236068\n",
            "2.449490\n",
            "2.645751\n",
            "2.828427\n"
          ]
        }
      ]
    },
    {
      "cell_type": "markdown",
      "source": [
        "*Задача 2 -  Делители*\n",
        "\n",
        "Напишите программу, которая будет считывать с консоли одно единственное число `N`.\n",
        "\n",
        "Выведите в строку первые N положительных чисел, делящихся на 3 нацело."
      ],
      "metadata": {
        "id": "CDHdDLDRyW9Z"
      }
    },
    {
      "cell_type": "code",
      "source": [
        "n = int(input(\"Введите число N\"))\n",
        "count = 0\n",
        "number = 3\n",
        "while count < n :\n",
        "  print(number, end = \" \")\n",
        "  count += 1\n",
        "  number += 3\n"
      ],
      "metadata": {
        "colab": {
          "base_uri": "https://localhost:8080/"
        },
        "id": "J71Nxy1kyqav",
        "outputId": "14a12d74-8dd8-4979-8e1c-8e60cbf6896d"
      },
      "execution_count": 6,
      "outputs": [
        {
          "output_type": "stream",
          "name": "stdout",
          "text": [
            "Введите число N6\n",
            "3 6 9 12 15 18 "
          ]
        }
      ]
    },
    {
      "cell_type": "markdown",
      "source": [
        "*Задача 3 - Сумма чисел до N*\n",
        "\n",
        "Пользователь вводит положительное число N. Найдите сумму чисел от 1 до N включительно.\n"
      ],
      "metadata": {
        "id": "L6NKRSEZLPT5"
      }
    },
    {
      "cell_type": "code",
      "source": [
        "n= int(input())\n",
        "current = 1\n",
        "sum_ = 0\n",
        "while current <= n:\n",
        "  sum_ += current\n",
        "  current += 1\n",
        "print(f\"Сумма чисел от 1 до {n} = {sum_}\")"
      ],
      "metadata": {
        "id": "afQU3XuQLAs2",
        "colab": {
          "base_uri": "https://localhost:8080/"
        },
        "outputId": "e80ca660-effe-43e9-e200-8dbf9b6e407a"
      },
      "execution_count": 7,
      "outputs": [
        {
          "output_type": "stream",
          "name": "stdout",
          "text": [
            "5\n",
            "Сумма чисел от 1 до 5 = 15\n"
          ]
        }
      ]
    },
    {
      "cell_type": "markdown",
      "source": [
        "*Задача 4 - Сумма введенных чисел*\n",
        "\n",
        "Напишите программу, которая будет суммировать все значения, введенные пользователем, пока не будет введен 0.\n"
      ],
      "metadata": {
        "id": "O-j9AYRvM7gQ"
      }
    },
    {
      "cell_type": "code",
      "source": [
        "sum = 0\n",
        "while number:\n",
        "  sum += number\n",
        "  number = int(input())\n",
        "  print({sum})"
      ],
      "metadata": {
        "colab": {
          "base_uri": "https://localhost:8080/"
        },
        "id": "8W18rN7iMRB7",
        "outputId": "8c266ac3-5f2b-473d-ce5d-12105e005f40"
      },
      "execution_count": 8,
      "outputs": [
        {
          "output_type": "stream",
          "name": "stdout",
          "text": [
            "3\n",
            "{21}\n",
            "3\n",
            "{24}\n",
            "1\n",
            "{27}\n",
            "2\n",
            "{28}\n",
            "0\n",
            "{30}\n"
          ]
        }
      ]
    },
    {
      "cell_type": "markdown",
      "source": [
        "*Задача 5 - Проценты по вкладу*\n",
        "\n",
        "Пользователь вводит условия по вкладу:\n",
        "1. Сумму, которую он хочет внести (`initial_money` - целое число)\n",
        "2. Процентную ставку за год (от 1 до 100 - целое число)\n",
        "3. Сумму, которую он хочет в итоге получить (`target_money` - целое число)\n",
        "\n",
        "Ваша задача рассчитать, за какое наименьшее количество лет при заданной процентной ставке у него на счету образуется сумма не меньше чем `target_money`.\n",
        "\n",
        "В результате выведите сколько лет понадобится чтобы скопить заданную сумму. Также выведите точное количество денег, которое будет у него на счету через рассчитанное количество лет"
      ],
      "metadata": {
        "id": "3LJoxGj82fsH"
      }
    },
    {
      "cell_type": "code",
      "source": [
        "def calculate_years(initial_money, rate, target_money):\n",
        "    n = 0\n",
        "    current_money = initial_money\n",
        "    yearly_increment = initial_money * (rate/100)\n",
        "    while current_money < target_money:\n",
        "        current_money += yearly_increment\n",
        "        n += 1\n",
        "    return n, current_money\n",
        "\n",
        "initial_money = int(input(\"Введите начальную сумму: \"))\n",
        "rate = int(input(\"Введите процентную ставку: \"))\n",
        "target_money = int(input(\"Введите желаемую сумму: \"))\n",
        "\n",
        "n, final_money = calculate_years(initial_money, rate, target_money)\n",
        "print(f\"Чтобы скопить {target_money} или больше, понадобится {n} лет.\")\n",
        "print(f\"Через {n} лет на счету будет {final_money:.2f}.\")"
      ],
      "metadata": {
        "id": "_51Y0Seo3F9c",
        "colab": {
          "base_uri": "https://localhost:8080/"
        },
        "outputId": "279fd71b-0ee6-42ce-aa4f-0935846d652c"
      },
      "execution_count": 10,
      "outputs": [
        {
          "output_type": "stream",
          "name": "stdout",
          "text": [
            "Введите начальную сумму: 100\n",
            "Введите процентную ставку: 10\n",
            "Введите желаемую сумму: 110\n",
            "Чтобы скопить 110 или больше, понадобится 1 лет.\n",
            "Через 1 лет на счету будет 110.00.\n"
          ]
        }
      ]
    },
    {
      "cell_type": "markdown",
      "source": [
        "### Блок 2\n",
        "\n",
        "Отрабатываем умение алгоритмизировать с помощью циклов и условных операторов. А также принимать решение о их применимости в рамках заданной задачи.\n",
        "Также в каких то задачах может пригодится умение пользоваться `break`, `continue`."
      ],
      "metadata": {
        "id": "nbo339A-z4ys"
      }
    },
    {
      "cell_type": "markdown",
      "source": [
        "*Задача 0 - Наименьший делитель*\n",
        "\n",
        "Пользователь вводит целое число, не меньшее 2. Выведите его наименьший натуральный делитель, отличный от 1."
      ],
      "metadata": {
        "id": "SkwzoZGSWBVy"
      }
    },
    {
      "cell_type": "code",
      "source": [
        "number = int(input(\"Введите целое число, не меньшее 2: \"))\n",
        "divider = 2\n",
        "\n",
        "while number % divider:\n",
        "    divider += 1\n",
        "\n",
        "print(f\"Наименьший натуральный делитель числа {number}, отличный от 1: {divider}\")"
      ],
      "metadata": {
        "colab": {
          "base_uri": "https://localhost:8080/"
        },
        "id": "jYS8rT211L1G",
        "outputId": "158453bc-0142-47bc-c2c7-ab58d5b65195"
      },
      "execution_count": 13,
      "outputs": [
        {
          "output_type": "stream",
          "name": "stdout",
          "text": [
            "Введите целое число, не меньшее 2: 10\n",
            "Наименьший натуральный делитель числа 10, отличный от 1: 2\n"
          ]
        }
      ]
    },
    {
      "cell_type": "markdown",
      "source": [
        "*Задача 1 - Максимум чисел*\n",
        "\n",
        "Пользователь вводит 10 ЛЮБЫХ чисел через консоль. Найдите максимальное число, введенное пользователем на экран.\n",
        "Не используйте встроенную функцию `max`."
      ],
      "metadata": {
        "id": "8s3gbRwGd0lw"
      }
    },
    {
      "cell_type": "code",
      "source": [
        "print(\"Введите 10 чисел:\")\n",
        "\n",
        "# Инициализация максимального значения первым введенным числом\n",
        "max_number = float(input(\"Число 1 из 10: \"))\n",
        "\n",
        "i = 2\n",
        "while i <= 10:\n",
        "    current_number = float(input(f\"Число {i} из 10: \"))\n",
        "    max_number = (max_number + current_number + abs(max_number - current_number)) / 2\n",
        "    i += 1\n",
        "\n",
        "print(f\"Максимальное введенное число: {max_number}\")"
      ],
      "metadata": {
        "id": "nowhGVIBlPUi",
        "colab": {
          "base_uri": "https://localhost:8080/"
        },
        "outputId": "a0e546a7-918f-4b7d-b718-1ca0fa2d37f4"
      },
      "execution_count": 14,
      "outputs": [
        {
          "output_type": "stream",
          "name": "stdout",
          "text": [
            "Введите 10 чисел:\n",
            "Число 1 из 10: 6\n",
            "Число 2 из 10: 8\n",
            "Число 3 из 10: 7\n",
            "Число 4 из 10: 67\n",
            "Число 5 из 10: 45\n",
            "Число 6 из 10: 32\n",
            "Число 7 из 10: 9\n",
            "Число 8 из 10: 1\n",
            "Число 9 из 10: 5\n",
            "Число 10 из 10: 10\n",
            "Максимальное введенное число: 67.0\n"
          ]
        }
      ]
    },
    {
      "cell_type": "markdown",
      "source": [
        "*Задача 2 - Числа с заданной цифрой*\n",
        "\n",
        "Пользователь вводит число от 0 до 9 на экран.\n",
        "Выведите все числа от 0 до 100, в которых встречается введенная пользователем цифра."
      ],
      "metadata": {
        "id": "nnvpRR6X6JJT"
      }
    },
    {
      "cell_type": "code",
      "source": [
        "digit = input(\"Введите число от 0 до 9: \")\n",
        "number = 0\n",
        "\n",
        "while number <= 100:\n",
        "\n",
        "    position = str(number).find(digit)\n",
        "\n",
        "    # Выводим число, только если его позиция не равна -1\n",
        "    print((str(number) + \"\\n\") * (position + 1), end='')\n",
        "\n",
        "    number += 1"
      ],
      "metadata": {
        "colab": {
          "base_uri": "https://localhost:8080/"
        },
        "id": "QotLXVmgXQYa",
        "outputId": "c44a3488-1e81-4e70-d1a9-a0f84c26e21a"
      },
      "execution_count": 19,
      "outputs": [
        {
          "output_type": "stream",
          "name": "stdout",
          "text": [
            "Введите число от 0 до 9: 6\n",
            "6\n",
            "16\n",
            "16\n",
            "26\n",
            "26\n",
            "36\n",
            "36\n",
            "46\n",
            "46\n",
            "56\n",
            "56\n",
            "60\n",
            "61\n",
            "62\n",
            "63\n",
            "64\n",
            "65\n",
            "66\n",
            "67\n",
            "68\n",
            "69\n",
            "76\n",
            "76\n",
            "86\n",
            "86\n",
            "96\n",
            "96\n"
          ]
        }
      ]
    },
    {
      "cell_type": "markdown",
      "source": [
        "*Задача 3 - Число наоборот*\n",
        "\n",
        "Напишите программу, которая считывает с экрана целое положительное число любой длины и выводит его на экран в обратном порядке."
      ],
      "metadata": {
        "id": "O7jDbstGPFww"
      }
    },
    {
      "cell_type": "code",
      "source": [
        "\n",
        "num = input(\"Введите целое положительное число: \")\n",
        "\n",
        "print(num[::-1])"
      ],
      "metadata": {
        "colab": {
          "base_uri": "https://localhost:8080/"
        },
        "id": "cZkQ2FiWOsVz",
        "outputId": "3c9b2c1c-7a3a-451b-8dfa-805fbc373601"
      },
      "execution_count": 20,
      "outputs": [
        {
          "output_type": "stream",
          "name": "stdout",
          "text": [
            "Введите целое положительное число: 12345\n",
            "54321\n"
          ]
        }
      ]
    },
    {
      "cell_type": "markdown",
      "source": [
        "Задача 4 - Лесенка\n",
        "\n",
        "Пользователь вводит цифру от 1 до 9 на экран в переменную `n`. Выведите лесенку из n ступенек, где i-я ступенька состоит из чисел от 1 до i без пробелов."
      ],
      "metadata": {
        "id": "vyKTOqjYYGAJ"
      }
    },
    {
      "cell_type": "code",
      "source": [
        "n = int(input(\"Введите цифру от 1 до 9: \"))\n",
        "\n",
        "i = 1\n",
        "while i <= n:\n",
        "    j = 1\n",
        "    while j <= i:\n",
        "        print(j, end='')\n",
        "        j += 1\n",
        "    print()  # Переход на новую строку\n",
        "    i += 1"
      ],
      "metadata": {
        "colab": {
          "base_uri": "https://localhost:8080/"
        },
        "id": "7ZV22zEzY2Jp",
        "outputId": "f785c760-be86-406b-9319-b08b424336f5"
      },
      "execution_count": 32,
      "outputs": [
        {
          "output_type": "stream",
          "name": "stdout",
          "text": [
            "Введите цифру от 1 до 9: 3\n",
            "1\n",
            "12\n",
            "123\n"
          ]
        }
      ]
    },
    {
      "cell_type": "markdown",
      "source": [
        "*Задача 5 - Угадать число*\n",
        "\n",
        "Пользователь загадывает целое число от 0 до 100.\n",
        "Нужно написать программу, которая не более чем за 5 попыток попытается угадать данное число.\n",
        "\n",
        "Для того, чтобы угадать число воспользуйтесь функцией генерацией случайного числа random.randint(a,b) из примера ячейки ниже.\n",
        "\n",
        "Пользователь может давать обратную связь на предложенное программой число, через строку ввода. Он может ввести одну из трех фраз:\n",
        "- угадано (число угадано, можно завершать программу)\n",
        "- больше (загаданное число больше, чем текущее)\n",
        "- меньше (загаданное число меньше, чем текущее)\n"
      ],
      "metadata": {
        "id": "rzPBjwOvGRu4"
      }
    },
    {
      "cell_type": "code",
      "source": [
        "import random\n",
        "\n",
        "# Начальные границы диапазона\n",
        "low = 0\n",
        "high = 100\n",
        "\n",
        "# Словарь для корректировки границ диапазона\n",
        "feedbacks = {\n",
        "    \"больше\": (1, 0),\n",
        "    \"меньше\": (0, -1),\n",
        "    \"угадано\": (0, 0)\n",
        "}\n",
        "\n",
        "attempts = 0\n",
        "\n",
        "while attempts < 5:\n",
        "    guess = random.randint(low, high)\n",
        "    print(f\"Ваше число {guess}?\")\n",
        "    feedback = input(\"Введите ответ (больше, меньше, угадано): \")\n",
        "\n"
      ],
      "metadata": {
        "colab": {
          "base_uri": "https://localhost:8080/",
          "height": 280
        },
        "id": "pQs05dnh_Cdy",
        "outputId": "6a88873d-3e08-4a87-84e9-6b19bfa7aa9b"
      },
      "execution_count": 40,
      "outputs": [
        {
          "name": "stdout",
          "output_type": "stream",
          "text": [
            "Ваше число 96?\n",
            "Введите ответ (больше, меньше, угадано): угаданно\n"
          ]
        },
        {
          "output_type": "error",
          "ename": "KeyError",
          "evalue": "ignored",
          "traceback": [
            "\u001b[0;31m---------------------------------------------------------------------------\u001b[0m",
            "\u001b[0;31mKeyError\u001b[0m                                  Traceback (most recent call last)",
            "\u001b[0;32m<ipython-input-40-255b5d26a8c4>\u001b[0m in \u001b[0;36m<cell line: 16>\u001b[0;34m()\u001b[0m\n\u001b[1;32m     19\u001b[0m     \u001b[0mfeedback\u001b[0m \u001b[0;34m=\u001b[0m \u001b[0minput\u001b[0m\u001b[0;34m(\u001b[0m\u001b[0;34m\"Введите ответ (больше, меньше, угадано): \"\u001b[0m\u001b[0;34m)\u001b[0m\u001b[0;34m\u001b[0m\u001b[0;34m\u001b[0m\u001b[0m\n\u001b[1;32m     20\u001b[0m \u001b[0;34m\u001b[0m\u001b[0m\n\u001b[0;32m---> 21\u001b[0;31m     \u001b[0mlow_adj\u001b[0m\u001b[0;34m,\u001b[0m \u001b[0mhigh_adj\u001b[0m \u001b[0;34m=\u001b[0m \u001b[0mfeedbacks\u001b[0m\u001b[0;34m[\u001b[0m\u001b[0mfeedback\u001b[0m\u001b[0;34m]\u001b[0m\u001b[0;34m\u001b[0m\u001b[0;34m\u001b[0m\u001b[0m\n\u001b[0m\u001b[1;32m     22\u001b[0m     \u001b[0mlow\u001b[0m\u001b[0;34m,\u001b[0m \u001b[0mhigh\u001b[0m \u001b[0;34m=\u001b[0m \u001b[0mmax\u001b[0m\u001b[0;34m(\u001b[0m\u001b[0mlow\u001b[0m\u001b[0;34m,\u001b[0m \u001b[0mguess\u001b[0m \u001b[0;34m+\u001b[0m \u001b[0mlow_adj\u001b[0m\u001b[0;34m)\u001b[0m\u001b[0;34m,\u001b[0m \u001b[0mmin\u001b[0m\u001b[0;34m(\u001b[0m\u001b[0mhigh\u001b[0m\u001b[0;34m,\u001b[0m \u001b[0mguess\u001b[0m \u001b[0;34m+\u001b[0m \u001b[0mhigh_adj\u001b[0m\u001b[0;34m)\u001b[0m\u001b[0;34m\u001b[0m\u001b[0;34m\u001b[0m\u001b[0m\n\u001b[1;32m     23\u001b[0m \u001b[0;34m\u001b[0m\u001b[0m\n",
            "\u001b[0;31mKeyError\u001b[0m: 'угаданно'"
          ]
        }
      ]
    },
    {
      "cell_type": "code",
      "source": [
        "# генерирует случайное целое число от 1(включительно) до 2(включительно)\n",
        "random.randint(1,2)"
      ],
      "metadata": {
        "colab": {
          "base_uri": "https://localhost:8080/"
        },
        "id": "JGwD8JBKGflP",
        "outputId": "8d33e18d-b0cd-453e-e7ef-4f6ae8a6841d"
      },
      "execution_count": null,
      "outputs": [
        {
          "output_type": "execute_result",
          "data": {
            "text/plain": [
              "2"
            ]
          },
          "metadata": {},
          "execution_count": 24
        }
      ]
    },
    {
      "cell_type": "code",
      "source": [],
      "metadata": {
        "colab": {
          "base_uri": "https://localhost:8080/"
        },
        "id": "OqLnI4znGhzs",
        "outputId": "238ea8d3-a20b-4618-b843-d91794046894"
      },
      "execution_count": null,
      "outputs": [
        {
          "output_type": "stream",
          "name": "stdout",
          "text": [
            "попытка 1, ваше число 96?\n",
            "меньше\n",
            "попытка 2, ваше число 70?\n",
            "меньше\n",
            "попытка 3, ваше число 13?\n",
            "больше\n",
            "попытка 4, ваше число 29?\n",
            "угадано\n",
            "ура!\n"
          ]
        }
      ]
    },
    {
      "cell_type": "markdown",
      "source": [
        "*Задача 6 - Модификация угадайки*\n",
        "\n",
        "Модифицируйте предыдущую программу:\n",
        "Если количество попыток закончилось, и число до сих пор не угадано - выведите сообщение: \"Число не удалось угадать!\""
      ],
      "metadata": {
        "id": "30tQGk7RLOnU"
      }
    },
    {
      "cell_type": "code",
      "source": [],
      "metadata": {
        "colab": {
          "base_uri": "https://localhost:8080/"
        },
        "id": "pDLT7f3UKQBZ",
        "outputId": "a7dec7dd-e8f5-4861-b622-39f873551647"
      },
      "execution_count": null,
      "outputs": [
        {
          "output_type": "stream",
          "name": "stdout",
          "text": [
            "попытка 1, ваше число 68?\n",
            "меньше\n",
            "попытка 2, ваше число 11?\n",
            "больше\n",
            "попытка 3, ваше число 35?\n",
            "больше\n",
            "попытка 4, ваше число 46?\n",
            "больше\n",
            "попытка 5, ваше число 54?\n",
            "меньше\n",
            "Число не удалось угадать!\n"
          ]
        }
      ]
    },
    {
      "cell_type": "markdown",
      "source": [
        "*Задача 7 - Тестирование* (повышенной сложности!)\n",
        "\n",
        "Напишите программу, которая будет генерировать вопросы на сложение двух чисел с помощью функции random.randint. Пользователь должен ввести верный ответ на данный пример.\n",
        "- Если пользователь ввел неверный ответ, сообщить ему что ответ неправильный и заново попросить ввести ответ на заданный пример\n",
        "- Если пользователь ввел ответ верный, сгенерировать следующий пример\n",
        "- Если пользователь ввел \"конец\" - вывести \"Приходите еще \" и закончить программу\n",
        "\n",
        "\n",
        "P.S. Для решении этой задачи можно использовать цикл в цикле"
      ],
      "metadata": {
        "id": "IHuqUU-iNM7T"
      }
    },
    {
      "cell_type": "code",
      "source": [
        "import random\n",
        "\n",
        "def get_user_input(question, correct_answer):\n",
        "    print(question)\n",
        "    while True:\n",
        "        user_input = input(\"Введите ваш ответ (или 'конец' для завершения): \")\n",
        "\n",
        "        # Для проверки верности ответа использую словарь\n",
        "        responses = {\n",
        "            correct_answer: \"Верно!\",\n",
        "            \"конец\": \"Приходите еще!\",\n",
        "        }\n",
        "\n",
        "        print(responses.get(user_input, \"Неправильно! Попробуйте еще раз.\"))\n",
        "\n",
        "        # Если ответ верный или пользователь ввел \"конец\", выходим из функции\n",
        "        while user_input == correct_answer or user_input == \"конец\":\n",
        "            return user_input\n",
        "\n",
        "while True:\n",
        "    num1 = random.randint(1, 10)\n",
        "    num2 = random.randint(1, 10)\n",
        "    correct_answer = str(num1 + num2)\n",
        "\n",
        "    user_input = get_user_input(f\"Сколько будет {num1} + {num2}?\", correct_answer)\n",
        "\n",
        "    # Если пользователь ввел \"конец\", выходим из внешнего цикла\n",
        "    while user_input == \"конец\":\n",
        "        break"
      ],
      "metadata": {
        "colab": {
          "base_uri": "https://localhost:8080/",
          "height": 547
        },
        "id": "ZKufmCj6M67S",
        "outputId": "aa5803ae-1f2a-422f-de33-b6001c1c3307"
      },
      "execution_count": 41,
      "outputs": [
        {
          "output_type": "stream",
          "name": "stdout",
          "text": [
            "Сколько будет 4 + 8?\n",
            "Введите ваш ответ (или 'конец' для завершения): 12\n",
            "Верно!\n",
            "Сколько будет 5 + 3?\n",
            "Введите ваш ответ (или 'конец' для завершения): 8\n",
            "Верно!\n",
            "Сколько будет 8 + 6?\n",
            "Введите ваш ответ (или 'конец' для завершения): 7\n",
            "Неправильно! Попробуйте еще раз.\n"
          ]
        },
        {
          "output_type": "error",
          "ename": "KeyboardInterrupt",
          "evalue": "ignored",
          "traceback": [
            "\u001b[0;31m---------------------------------------------------------------------------\u001b[0m",
            "\u001b[0;31mKeyboardInterrupt\u001b[0m                         Traceback (most recent call last)",
            "\u001b[0;32m<ipython-input-41-fe12506983b0>\u001b[0m in \u001b[0;36m<cell line: 20>\u001b[0;34m()\u001b[0m\n\u001b[1;32m     23\u001b[0m     \u001b[0mcorrect_answer\u001b[0m \u001b[0;34m=\u001b[0m \u001b[0mstr\u001b[0m\u001b[0;34m(\u001b[0m\u001b[0mnum1\u001b[0m \u001b[0;34m+\u001b[0m \u001b[0mnum2\u001b[0m\u001b[0;34m)\u001b[0m\u001b[0;34m\u001b[0m\u001b[0;34m\u001b[0m\u001b[0m\n\u001b[1;32m     24\u001b[0m \u001b[0;34m\u001b[0m\u001b[0m\n\u001b[0;32m---> 25\u001b[0;31m     \u001b[0muser_input\u001b[0m \u001b[0;34m=\u001b[0m \u001b[0mget_user_input\u001b[0m\u001b[0;34m(\u001b[0m\u001b[0;34mf\"Сколько будет {num1} + {num2}?\"\u001b[0m\u001b[0;34m,\u001b[0m \u001b[0mcorrect_answer\u001b[0m\u001b[0;34m)\u001b[0m\u001b[0;34m\u001b[0m\u001b[0;34m\u001b[0m\u001b[0m\n\u001b[0m\u001b[1;32m     26\u001b[0m \u001b[0;34m\u001b[0m\u001b[0m\n\u001b[1;32m     27\u001b[0m     \u001b[0;31m# Если пользователь ввел \"конец\", выходим из внешнего цикла\u001b[0m\u001b[0;34m\u001b[0m\u001b[0;34m\u001b[0m\u001b[0m\n",
            "\u001b[0;32m<ipython-input-41-fe12506983b0>\u001b[0m in \u001b[0;36mget_user_input\u001b[0;34m(question, correct_answer)\u001b[0m\n\u001b[1;32m      4\u001b[0m     \u001b[0mprint\u001b[0m\u001b[0;34m(\u001b[0m\u001b[0mquestion\u001b[0m\u001b[0;34m)\u001b[0m\u001b[0;34m\u001b[0m\u001b[0;34m\u001b[0m\u001b[0m\n\u001b[1;32m      5\u001b[0m     \u001b[0;32mwhile\u001b[0m \u001b[0;32mTrue\u001b[0m\u001b[0;34m:\u001b[0m\u001b[0;34m\u001b[0m\u001b[0;34m\u001b[0m\u001b[0m\n\u001b[0;32m----> 6\u001b[0;31m         \u001b[0muser_input\u001b[0m \u001b[0;34m=\u001b[0m \u001b[0minput\u001b[0m\u001b[0;34m(\u001b[0m\u001b[0;34m\"Введите ваш ответ (или 'конец' для завершения): \"\u001b[0m\u001b[0;34m)\u001b[0m\u001b[0;34m\u001b[0m\u001b[0;34m\u001b[0m\u001b[0m\n\u001b[0m\u001b[1;32m      7\u001b[0m \u001b[0;34m\u001b[0m\u001b[0m\n\u001b[1;32m      8\u001b[0m         \u001b[0;31m# Для проверки верности ответа используем словарь\u001b[0m\u001b[0;34m\u001b[0m\u001b[0;34m\u001b[0m\u001b[0m\n",
            "\u001b[0;32m/usr/local/lib/python3.10/dist-packages/ipykernel/kernelbase.py\u001b[0m in \u001b[0;36mraw_input\u001b[0;34m(self, prompt)\u001b[0m\n\u001b[1;32m    849\u001b[0m                 \u001b[0;34m\"raw_input was called, but this frontend does not support input requests.\"\u001b[0m\u001b[0;34m\u001b[0m\u001b[0;34m\u001b[0m\u001b[0m\n\u001b[1;32m    850\u001b[0m             )\n\u001b[0;32m--> 851\u001b[0;31m         return self._input_request(str(prompt),\n\u001b[0m\u001b[1;32m    852\u001b[0m             \u001b[0mself\u001b[0m\u001b[0;34m.\u001b[0m\u001b[0m_parent_ident\u001b[0m\u001b[0;34m,\u001b[0m\u001b[0;34m\u001b[0m\u001b[0;34m\u001b[0m\u001b[0m\n\u001b[1;32m    853\u001b[0m             \u001b[0mself\u001b[0m\u001b[0;34m.\u001b[0m\u001b[0m_parent_header\u001b[0m\u001b[0;34m,\u001b[0m\u001b[0;34m\u001b[0m\u001b[0;34m\u001b[0m\u001b[0m\n",
            "\u001b[0;32m/usr/local/lib/python3.10/dist-packages/ipykernel/kernelbase.py\u001b[0m in \u001b[0;36m_input_request\u001b[0;34m(self, prompt, ident, parent, password)\u001b[0m\n\u001b[1;32m    893\u001b[0m             \u001b[0;32mexcept\u001b[0m \u001b[0mKeyboardInterrupt\u001b[0m\u001b[0;34m:\u001b[0m\u001b[0;34m\u001b[0m\u001b[0;34m\u001b[0m\u001b[0m\n\u001b[1;32m    894\u001b[0m                 \u001b[0;31m# re-raise KeyboardInterrupt, to truncate traceback\u001b[0m\u001b[0;34m\u001b[0m\u001b[0;34m\u001b[0m\u001b[0m\n\u001b[0;32m--> 895\u001b[0;31m                 \u001b[0;32mraise\u001b[0m \u001b[0mKeyboardInterrupt\u001b[0m\u001b[0;34m(\u001b[0m\u001b[0;34m\"Interrupted by user\"\u001b[0m\u001b[0;34m)\u001b[0m \u001b[0;32mfrom\u001b[0m \u001b[0;32mNone\u001b[0m\u001b[0;34m\u001b[0m\u001b[0;34m\u001b[0m\u001b[0m\n\u001b[0m\u001b[1;32m    896\u001b[0m             \u001b[0;32mexcept\u001b[0m \u001b[0mException\u001b[0m \u001b[0;32mas\u001b[0m \u001b[0me\u001b[0m\u001b[0;34m:\u001b[0m\u001b[0;34m\u001b[0m\u001b[0;34m\u001b[0m\u001b[0m\n\u001b[1;32m    897\u001b[0m                 \u001b[0mself\u001b[0m\u001b[0;34m.\u001b[0m\u001b[0mlog\u001b[0m\u001b[0;34m.\u001b[0m\u001b[0mwarning\u001b[0m\u001b[0;34m(\u001b[0m\u001b[0;34m\"Invalid Message:\"\u001b[0m\u001b[0;34m,\u001b[0m \u001b[0mexc_info\u001b[0m\u001b[0;34m=\u001b[0m\u001b[0;32mTrue\u001b[0m\u001b[0;34m)\u001b[0m\u001b[0;34m\u001b[0m\u001b[0;34m\u001b[0m\u001b[0m\n",
            "\u001b[0;31mKeyboardInterrupt\u001b[0m: Interrupted by user"
          ]
        }
      ]
    },
    {
      "cell_type": "markdown",
      "source": [
        "### Блок 3\n",
        "\n",
        "Отрабатываем умение \"отлавливать\" исключения и обрабатывать их."
      ],
      "metadata": {
        "id": "q89YkNqYbNOa"
      }
    },
    {
      "cell_type": "markdown",
      "source": [
        "*Задача 0 - Ошибка типа данных*\n",
        "\n",
        "Пользователь вводит два значения на экран.\n",
        "Если два значения не являются численными и их нельзя сложить, отловите ошибку ValueError - и произведите конкатенацию этих двух значений.\n"
      ],
      "metadata": {
        "id": "aCHiKgT6H8VJ"
      }
    },
    {
      "cell_type": "code",
      "source": [
        "while True:\n",
        "    value1 = input(\"Введите первое значение: \")\n",
        "    value2 = input(\"Введите второе значение: \")\n",
        "\n",
        "    try:\n",
        "        result = float(value1) + float(value2)\n",
        "        print(f\"Результат сложения: {result}\")\n",
        "        break\n",
        "\n",
        "    except ValueError:\n",
        "        # Если не удалось преобразовать в числа, выполняется конкатенация\n",
        "        result = value1 + value2\n",
        "        print(f\"Результат конкатенации: {result}\")\n",
        "        break"
      ],
      "metadata": {
        "colab": {
          "base_uri": "https://localhost:8080/"
        },
        "id": "fmBklF5vUPiI",
        "outputId": "f60abac9-4d17-4fe4-b618-9169e64aef3c"
      },
      "execution_count": 44,
      "outputs": [
        {
          "output_type": "stream",
          "name": "stdout",
          "text": [
            "Введите первое значение: 7\n",
            "Введите второе значение: 7\n",
            "Результат сложения: 14.0\n"
          ]
        }
      ]
    },
    {
      "cell_type": "markdown",
      "source": [
        "*Задача 1 - Ошибка типа данных*\n",
        "\n",
        "Рассчитайте с какой скоростью (км/час) двигался пользователь, чтобы преодолеть один километр. Для этого запросите у него время (в минутах) за которое он преодолевает расстояние в 1 км.\n",
        "Отловите всевозможные ошибки, которые могут возникнуть при выполнении данного задания.\n",
        "\n",
        "После того как значение скорости будет рассчитано или не рассчитано, запросить у пользователя нужно ли еще раз рассчитать скорость. Если нужно - повторить процедуру, описанную сверху.\n"
      ],
      "metadata": {
        "id": "vs1DX3ArNNKk"
      }
    },
    {
      "cell_type": "code",
      "source": [
        "while True:\n",
        "    try:\n",
        "        minutes = float(input(\"Введите время (в минутах) за которое вы преодолеваете 1 км: \"))\n",
        "\n",
        "        # Рассчет скорости\n",
        "        speed = 60 / minutes\n",
        "        print(f\"Ваша скорость: {speed:.2f} км/ч\")\n",
        "\n",
        "    except ValueError:\n",
        "        print(\"Вы ввели некорректное значение. Пожалуйста, введите время в минутах.\")\n",
        "    except ZeroDivisionError:\n",
        "        print(\"Время не может быть равным нулю.\")\n",
        "    except Exception as e:\n",
        "        print(f\"Произошла неизвестная ошибка: {e}\")\n",
        "\n",
        "    # Запрос на повторный расчет\n",
        "    answer = input(\"Хотите рассчитать скорость еще раз? (да/нет) \").lower()\n",
        "    ['break', None][answer == \"да\"]"
      ],
      "metadata": {
        "colab": {
          "base_uri": "https://localhost:8080/",
          "height": 408
        },
        "id": "JLAPlE_0MOmO",
        "outputId": "a3da6c13-4b3a-485d-be77-c7b82f57044f"
      },
      "execution_count": 45,
      "outputs": [
        {
          "output_type": "stream",
          "name": "stdout",
          "text": [
            "Введите время (в минутах) за которое вы преодолеваете 1 км: 20\n",
            "Ваша скорость: 3.00 км/ч\n"
          ]
        },
        {
          "output_type": "error",
          "ename": "KeyboardInterrupt",
          "evalue": "ignored",
          "traceback": [
            "\u001b[0;31m---------------------------------------------------------------------------\u001b[0m",
            "\u001b[0;31mKeyboardInterrupt\u001b[0m                         Traceback (most recent call last)",
            "\u001b[0;32m<ipython-input-45-3314887fdb72>\u001b[0m in \u001b[0;36m<cell line: 1>\u001b[0;34m()\u001b[0m\n\u001b[1;32m     15\u001b[0m \u001b[0;34m\u001b[0m\u001b[0m\n\u001b[1;32m     16\u001b[0m     \u001b[0;31m# Запрос на повторный расчет\u001b[0m\u001b[0;34m\u001b[0m\u001b[0;34m\u001b[0m\u001b[0m\n\u001b[0;32m---> 17\u001b[0;31m     \u001b[0manswer\u001b[0m \u001b[0;34m=\u001b[0m \u001b[0minput\u001b[0m\u001b[0;34m(\u001b[0m\u001b[0;34m\"Хотите рассчитать скорость еще раз? (да/нет) \"\u001b[0m\u001b[0;34m)\u001b[0m\u001b[0;34m.\u001b[0m\u001b[0mlower\u001b[0m\u001b[0;34m(\u001b[0m\u001b[0;34m)\u001b[0m\u001b[0;34m\u001b[0m\u001b[0;34m\u001b[0m\u001b[0m\n\u001b[0m\u001b[1;32m     18\u001b[0m     \u001b[0;34m[\u001b[0m\u001b[0;34m'break'\u001b[0m\u001b[0;34m,\u001b[0m \u001b[0;32mNone\u001b[0m\u001b[0;34m]\u001b[0m\u001b[0;34m[\u001b[0m\u001b[0manswer\u001b[0m \u001b[0;34m==\u001b[0m \u001b[0;34m\"да\"\u001b[0m\u001b[0;34m]\u001b[0m\u001b[0;34m\u001b[0m\u001b[0;34m\u001b[0m\u001b[0m\n",
            "\u001b[0;32m/usr/local/lib/python3.10/dist-packages/ipykernel/kernelbase.py\u001b[0m in \u001b[0;36mraw_input\u001b[0;34m(self, prompt)\u001b[0m\n\u001b[1;32m    849\u001b[0m                 \u001b[0;34m\"raw_input was called, but this frontend does not support input requests.\"\u001b[0m\u001b[0;34m\u001b[0m\u001b[0;34m\u001b[0m\u001b[0m\n\u001b[1;32m    850\u001b[0m             )\n\u001b[0;32m--> 851\u001b[0;31m         return self._input_request(str(prompt),\n\u001b[0m\u001b[1;32m    852\u001b[0m             \u001b[0mself\u001b[0m\u001b[0;34m.\u001b[0m\u001b[0m_parent_ident\u001b[0m\u001b[0;34m,\u001b[0m\u001b[0;34m\u001b[0m\u001b[0;34m\u001b[0m\u001b[0m\n\u001b[1;32m    853\u001b[0m             \u001b[0mself\u001b[0m\u001b[0;34m.\u001b[0m\u001b[0m_parent_header\u001b[0m\u001b[0;34m,\u001b[0m\u001b[0;34m\u001b[0m\u001b[0;34m\u001b[0m\u001b[0m\n",
            "\u001b[0;32m/usr/local/lib/python3.10/dist-packages/ipykernel/kernelbase.py\u001b[0m in \u001b[0;36m_input_request\u001b[0;34m(self, prompt, ident, parent, password)\u001b[0m\n\u001b[1;32m    893\u001b[0m             \u001b[0;32mexcept\u001b[0m \u001b[0mKeyboardInterrupt\u001b[0m\u001b[0;34m:\u001b[0m\u001b[0;34m\u001b[0m\u001b[0;34m\u001b[0m\u001b[0m\n\u001b[1;32m    894\u001b[0m                 \u001b[0;31m# re-raise KeyboardInterrupt, to truncate traceback\u001b[0m\u001b[0;34m\u001b[0m\u001b[0;34m\u001b[0m\u001b[0m\n\u001b[0;32m--> 895\u001b[0;31m                 \u001b[0;32mraise\u001b[0m \u001b[0mKeyboardInterrupt\u001b[0m\u001b[0;34m(\u001b[0m\u001b[0;34m\"Interrupted by user\"\u001b[0m\u001b[0;34m)\u001b[0m \u001b[0;32mfrom\u001b[0m \u001b[0;32mNone\u001b[0m\u001b[0;34m\u001b[0m\u001b[0;34m\u001b[0m\u001b[0m\n\u001b[0m\u001b[1;32m    896\u001b[0m             \u001b[0;32mexcept\u001b[0m \u001b[0mException\u001b[0m \u001b[0;32mas\u001b[0m \u001b[0me\u001b[0m\u001b[0;34m:\u001b[0m\u001b[0;34m\u001b[0m\u001b[0;34m\u001b[0m\u001b[0m\n\u001b[1;32m    897\u001b[0m                 \u001b[0mself\u001b[0m\u001b[0;34m.\u001b[0m\u001b[0mlog\u001b[0m\u001b[0;34m.\u001b[0m\u001b[0mwarning\u001b[0m\u001b[0;34m(\u001b[0m\u001b[0;34m\"Invalid Message:\"\u001b[0m\u001b[0;34m,\u001b[0m \u001b[0mexc_info\u001b[0m\u001b[0;34m=\u001b[0m\u001b[0;32mTrue\u001b[0m\u001b[0;34m)\u001b[0m\u001b[0;34m\u001b[0m\u001b[0;34m\u001b[0m\u001b[0m\n",
            "\u001b[0;31mKeyboardInterrupt\u001b[0m: Interrupted by user"
          ]
        }
      ]
    },
    {
      "cell_type": "markdown",
      "source": [
        "ДЗ:\n",
        "https://new.contest.yandex.ru/41235/statistics"
      ],
      "metadata": {
        "id": "eH1zgT5bUjf7"
      }
    },
    {
      "cell_type": "code",
      "source": [],
      "metadata": {
        "id": "wRsRSKD0QvYG"
      },
      "execution_count": null,
      "outputs": []
    }
  ]
}