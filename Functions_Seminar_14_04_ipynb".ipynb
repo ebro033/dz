{
  "cells": [
    {
      "cell_type": "markdown",
      "metadata": {
        "id": "view-in-github",
        "colab_type": "text"
      },
      "source": [
        "<a href=\"https://colab.research.google.com/github/ebro033/dz/blob/main/Functions_Seminar_14_04_ipynb%22.ipynb\" target=\"_parent\"><img src=\"https://colab.research.google.com/assets/colab-badge.svg\" alt=\"Open In Colab\"/></a>"
      ]
    },
    {
      "cell_type": "markdown",
      "id": "fbc88b0b",
      "metadata": {
        "id": "fbc88b0b"
      },
      "source": [
        "# Содержание:\n",
        "  - ## [Разобранные примеры 1](#Примеры_1)\n",
        "  - ## [Блок 1](#Блок_1)\n",
        "  - ## [Разобранные примеры 2](#Примеры_2)\n",
        "  - ## [Блок 2](#Блок_2)"
      ]
    },
    {
      "cell_type": "markdown",
      "id": "5c645458",
      "metadata": {
        "id": "5c645458"
      },
      "source": [
        "# Примеры_1"
      ]
    },
    {
      "cell_type": "markdown",
      "id": "83bf3e83",
      "metadata": {
        "id": "83bf3e83"
      },
      "source": [
        "### Задачка:\n",
        "Напишите функцию is_prime(n), которая принимает на вход целое число n и возвращает True, если число n является простым, и False, если число n не является простым."
      ]
    },
    {
      "cell_type": "code",
      "execution_count": 17,
      "id": "f2f310a8",
      "metadata": {
        "id": "f2f310a8",
        "outputId": "2dac3c09-1434-47fa-d4ef-509f70669c94",
        "colab": {
          "base_uri": "https://localhost:8080/"
        }
      },
      "outputs": [
        {
          "output_type": "stream",
          "name": "stdout",
          "text": [
            "Введите целое число: 50.0\n",
            "Пожалуйста, введите корректное целое число.\n",
            "False\n"
          ]
        }
      ],
      "source": []
    },
    {
      "cell_type": "code",
      "execution_count": 18,
      "id": "c4d31b17",
      "metadata": {
        "id": "c4d31b17",
        "outputId": "761ac03e-9098-4bcd-bedb-ab6151cb1966",
        "colab": {
          "base_uri": "https://localhost:8080/"
        }
      },
      "outputs": [
        {
          "output_type": "stream",
          "name": "stdout",
          "text": [
            "Введите целое число: 3\n",
            "True\n"
          ]
        }
      ],
      "source": [
        "def is_prime():\n",
        "    try:\n",
        "        n = int(input(\"Введите целое число: \"))\n",
        "        if n < 2:\n",
        "            return False\n",
        "        for i in range(2, int(n**0.5) + 1):\n",
        "            if n % i == 0:\n",
        "                return False\n",
        "        return True\n",
        "    except ValueError:\n",
        "        print(\"Пожалуйста, введите корректное целое число.\")\n",
        "        return False\n",
        "\n",
        "result = is_prime()\n",
        "print(result)\n"
      ]
    },
    {
      "cell_type": "markdown",
      "id": "c8b34644",
      "metadata": {
        "id": "c8b34644"
      },
      "source": [
        "### Задачка:\n",
        "\n",
        "Напишите программу, принимающую на вход массив и число - множитель, на который нужно умножить все элементы массива."
      ]
    },
    {
      "cell_type": "code",
      "execution_count": 19,
      "id": "d58d5238",
      "metadata": {
        "id": "d58d5238",
        "outputId": "4e585c1d-b503-4172-f9c5-356603843af8",
        "colab": {
          "base_uri": "https://localhost:8080/"
        }
      },
      "outputs": [
        {
          "output_type": "stream",
          "name": "stdout",
          "text": [
            "Введите элементы массива через пробел: 1 2 3\n",
            "Введите число-множитель: 5\n",
            "Результат умножения: [5, 10, 15]\n"
          ]
        }
      ],
      "source": [
        "def multiply_elements(n, multiplier):\n",
        "    for i in range(len(n)):\n",
        "        n[i] *= multiplier\n",
        "    return n\n",
        "n = list(map(int, input(\"Введите элементы массива через пробел: \").split()))\n",
        "\n",
        "multiplier = int(input(\"Введите число-множитель: \"))\n",
        "\n",
        "result = multiply_elements(n, multiplier)\n",
        "print(f\"Результат умножения: {result}\")"
      ]
    },
    {
      "cell_type": "markdown",
      "id": "63b769b3",
      "metadata": {
        "id": "63b769b3"
      },
      "source": [
        "## Задачка:\n",
        "Напишите функцию, которая принимает от пользователя два списка целых чисел одинаковой длины и выполняет следующие операции:\n",
        "\n",
        "- Находит сумму элементов с одинаковыми индексами в каждом списке.\n",
        "- Вычисляет среднее арифметическое всех элементов из двух списков.\n",
        "- Возвращает список, состоящий из элементов, которые встречаются в обоих списках.\n"
      ]
    },
    {
      "cell_type": "code",
      "execution_count": null,
      "id": "b4de0088",
      "metadata": {
        "id": "b4de0088"
      },
      "outputs": [],
      "source": [
        "def sum_lists(list1: list, list2: list) -> list:\n",
        "    return [a + b for a, b in zip(list1, list2)]\n",
        "\n",
        "def average_lists(list1: list, list2: list) -> float:\n",
        "    sum_list = sum_lists(list1, list2)\n",
        "    return sum(sum_list) / len(sum_list)\n",
        "\n",
        "def common_elements(list1: list, list2: list) -> list:\n",
        "    return list(set(list1) & set(list2))"
      ]
    },
    {
      "cell_type": "code",
      "execution_count": 20,
      "id": "3e04c29d",
      "metadata": {
        "id": "3e04c29d",
        "outputId": "23654cfc-6644-455f-bf73-311d10e4c7d1",
        "colab": {
          "base_uri": "https://localhost:8080/"
        }
      },
      "outputs": [
        {
          "output_type": "stream",
          "name": "stdout",
          "text": [
            "Введите элементы первого списка через пробел: 1 2 3\n",
            "Введите элементы второго списка через пробел: 3 2 1\n",
            "Сумма элементов с одинаковыми индексами: [4, 4, 4]\n",
            "Среднее арифметическое всех элементов: 2.00\n",
            "Элементы, которые встречаются в обоих списках: [1, 2, 3]\n"
          ]
        }
      ],
      "source": [
        "def process_lists():\n",
        "    # Принимаем первый список от пользователя\n",
        "    list1 = list(map(int, input(\"Введите элементы первого списка через пробел: \").split()))\n",
        "\n",
        "    # Принимаем второй список от пользователя\n",
        "    list2 = list(map(int, input(\"Введите элементы второго списка через пробел: \").split()))\n",
        "\n",
        "    # Проверяем одинаковую ли длину имеют списки\n",
        "    if len(list1) != len(list2):\n",
        "        print(\"Списки разной длины!\")\n",
        "        return\n",
        "\n",
        "    # Находим сумму элементов с одинаковыми индексами\n",
        "    sum_elements = [list1[i] + list2[i] for i in range(len(list1))]\n",
        "    print(f\"Сумма элементов с одинаковыми индексами: {sum_elements}\")\n",
        "\n",
        "    # Вычисляем среднее арифметическое всех элементов из двух списков\n",
        "    average = sum(list1 + list2) / (len(list1) + len(list2))\n",
        "    print(f\"Среднее арифметическое всех элементов: {average:.2f}\")\n",
        "\n",
        "    # Возвращаем список, состоящий из элементов, которые встречаются в обоих списках\n",
        "    common_elements = list(set(list1) & set(list2))\n",
        "    print(f\"Элементы, которые встречаются в обоих списках: {common_elements}\")\n",
        "\n",
        "process_lists()"
      ]
    },
    {
      "cell_type": "markdown",
      "id": "686cdf10",
      "metadata": {
        "id": "686cdf10"
      },
      "source": [
        "# Блок_1"
      ]
    },
    {
      "cell_type": "markdown",
      "id": "673f4151",
      "metadata": {
        "id": "673f4151"
      },
      "source": [
        "### Задачка 1:\n",
        "Напишите функцию `sum_even(numbers)`, которая принимает список чисел numbers и возвращает сумму всех четных чисел в списке.\n",
        "\n"
      ]
    },
    {
      "cell_type": "code",
      "execution_count": 21,
      "id": "24fad1cf",
      "metadata": {
        "id": "24fad1cf"
      },
      "outputs": [],
      "source": [
        "def sum_even(numbers):\n",
        "    # your code here\n",
        "    pass"
      ]
    },
    {
      "cell_type": "code",
      "execution_count": 23,
      "id": "aea4e620",
      "metadata": {
        "id": "aea4e620",
        "outputId": "ca553b28-3e52-4ee7-9d64-00f652960d74",
        "colab": {
          "base_uri": "https://localhost:8080/"
        }
      },
      "outputs": [
        {
          "output_type": "stream",
          "name": "stdout",
          "text": [
            "Введите числа через пробел: 1 4 7 9\n",
            "Сумма четных чисел: 4\n"
          ]
        }
      ],
      "source": [
        "def sum_even(numbers):\n",
        "    return sum(num for num in numbers if num % 2 == 0)\n",
        "\n",
        "numbers_input = input(\"Введите числа через пробел: \")\n",
        "numbers_list = list(map(int, numbers_input.split()))\n",
        "\n",
        "result = sum_even(numbers_list)\n",
        "print(f\"Сумма четных чисел: {result}\")"
      ]
    },
    {
      "cell_type": "markdown",
      "id": "d050a4a1",
      "metadata": {
        "id": "d050a4a1"
      },
      "source": [
        "### Задачка 2"
      ]
    },
    {
      "cell_type": "markdown",
      "id": "fa1bef12",
      "metadata": {
        "id": "fa1bef12"
      },
      "source": [
        "Напишите функцию `calculate_grade`, которая принимает на вход лист оценок (целые числа).\n",
        "Функция возвращает кортеж состоящий из округленной до ближайшего целого числа усредненной оценки в баллах\n",
        "и соответствующую ей оценку по 5 шкалле, выставленной по следующим правилам:\n",
        "\n",
        "\n",
        "- 85 или выше: 5\n",
        "- 70-85: 4\n",
        "- 50-69: 3\n",
        "- Ниже 60: 2\n",
        "\n",
        "Например, если на вход подали `[85, 92, 78, 60, 45]`, функция должна вернуть `(72, 4)`"
      ]
    },
    {
      "cell_type": "code",
      "execution_count": 28,
      "id": "a757e8da",
      "metadata": {
        "id": "a757e8da",
        "outputId": "e796d7d9-98f3-45ae-831f-abe3a12e4ec4",
        "colab": {
          "base_uri": "https://localhost:8080/"
        }
      },
      "outputs": [
        {
          "output_type": "stream",
          "name": "stdout",
          "text": [
            "Введите оценки через пробел: 20 29\n",
            "Средний балл: 24, Оценка по 5-бальной шкале: 2\n"
          ]
        }
      ],
      "source": [
        "#возможно опечатка? ниже 50:2\n",
        "\n",
        "def calculate_grade():\n",
        "    # Принимаем оценки от пользователя\n",
        "    grades_input = input(\"Введите оценки через пробел: \")\n",
        "    grades = [int(grade) for grade in grades_input.split()]\n",
        "\n",
        "    average = round(sum(grades) / len(grades))\n",
        "\n",
        "    # Определяем оценку по 5-бальной шкале\n",
        "    grade_mapping = [\n",
        "        (85, 5),\n",
        "        (70, 4),\n",
        "        (50, 3),\n",
        "        (0, 2)\n",
        "    ]\n",
        "    grade = next(score for limit, score in grade_mapping if average >= limit)\n",
        "\n",
        "    return average, grade\n",
        "\n",
        "result = calculate_grade()\n",
        "print(f\"Средний балл: {result[0]}, Оценка по 5-бальной шкале: {result[1]}\")"
      ]
    },
    {
      "cell_type": "markdown",
      "id": "2b75df67",
      "metadata": {
        "id": "2b75df67"
      },
      "source": [
        "### Задачка 3"
      ]
    },
    {
      "cell_type": "markdown",
      "id": "bbb02495",
      "metadata": {
        "id": "bbb02495"
      },
      "source": [
        "Напишите функцию `find_max()`, которая принимает список чисел в качестве аргумента и возвращает наибольшее число в списке."
      ]
    },
    {
      "cell_type": "code",
      "execution_count": 29,
      "id": "b22781b7",
      "metadata": {
        "id": "b22781b7",
        "outputId": "3971cb37-f39e-44e3-d2fd-73d939e3997c",
        "colab": {
          "base_uri": "https://localhost:8080/"
        }
      },
      "outputs": [
        {
          "output_type": "stream",
          "name": "stdout",
          "text": [
            "Введите список чисел, разделенных пробелом: 5 7 1\n",
            "7\n"
          ]
        }
      ],
      "source": [
        "def find_max():\n",
        "    numbers_string = input(\"Введите список чисел, разделенных пробелом: \")\n",
        "    numbers_list = list(map(int, numbers_string.split()))\n",
        "\n",
        "    max_number = numbers_list[0]\n",
        "    for num in numbers_list:\n",
        "        max_number = max(max_number, num)\n",
        "\n",
        "    return max_number\n",
        "\n",
        "print(find_max())"
      ]
    },
    {
      "cell_type": "markdown",
      "id": "1ab78198",
      "metadata": {
        "id": "1ab78198"
      },
      "source": [
        "### Задачка 4\n",
        "\n",
        "Напишите функцию delete_punctuation(), которая принимает на вход строку и удаляет знаки пунктуации `'?!.,:;-\"''.`\n",
        "\n",
        "Подсказка: чтобы указать в питоновской строке кавычки, используется бэкслэш: `'\\''`  и `'\\\"'`"
      ]
    },
    {
      "cell_type": "code",
      "execution_count": 31,
      "id": "054d7c4e",
      "metadata": {
        "id": "054d7c4e",
        "outputId": "446707d2-f7d3-41b1-995e-6b8cabb0036d",
        "colab": {
          "base_uri": "https://localhost:8080/"
        }
      },
      "outputs": [
        {
          "output_type": "stream",
          "name": "stdout",
          "text": [
            "Введите строку: ?\n",
            "\n"
          ]
        }
      ],
      "source": [
        "def delete_punctuation():\n",
        "    punctuation_chars = '?!.,:;-\"\"\\''\n",
        "    user_string = input(\"Введите строку: \")\n",
        "\n",
        "    for char in punctuation_chars:\n",
        "        user_string = user_string.replace(char, '')\n",
        "\n",
        "    return user_string\n",
        "print(delete_punctuation())"
      ]
    },
    {
      "cell_type": "markdown",
      "id": "1b2d7cd2",
      "metadata": {
        "id": "1b2d7cd2"
      },
      "source": [
        "### Задачка 5"
      ]
    },
    {
      "cell_type": "markdown",
      "id": "fff76f4e",
      "metadata": {
        "id": "fff76f4e"
      },
      "source": [
        "Напишите функцию `find_factors()`, принимающую на вход целое число и возвращающую список делителей этого числа."
      ]
    },
    {
      "cell_type": "code",
      "source": [
        "def find_factors():\n",
        "    number = int(input(\"Введите целое число: \"))\n",
        "    factors = []\n",
        "\n",
        "    for i in range(1, number + 1):\n",
        "        if number % i == 0:\n",
        "            factors.append(i)\n",
        "\n",
        "    return factors\n",
        "\n",
        "# Тест функции\n",
        "print(find_factors())"
      ],
      "metadata": {
        "id": "SSyacDW8nBiz",
        "outputId": "0973c90e-8648-47e1-b980-4bb4545f1b38",
        "colab": {
          "base_uri": "https://localhost:8080/"
        }
      },
      "id": "SSyacDW8nBiz",
      "execution_count": 32,
      "outputs": [
        {
          "output_type": "stream",
          "name": "stdout",
          "text": [
            "Введите целое число: 657\n",
            "[1, 3, 9, 73, 219, 657]\n"
          ]
        }
      ]
    },
    {
      "cell_type": "markdown",
      "id": "221f1c21",
      "metadata": {
        "id": "221f1c21"
      },
      "source": [
        "### Задачка 6\n",
        "\n",
        "Напишите функцию is_palindrome(s), которая принимает на вход строку s и возвращает True, если строка является палиндромом, и False, если строка не является палиндромом.\n",
        "\n"
      ]
    },
    {
      "cell_type": "code",
      "execution_count": null,
      "id": "4892a6f8",
      "metadata": {
        "id": "4892a6f8"
      },
      "outputs": [],
      "source": [
        "def is_palindrome(s: str) -> bool:\n",
        "    # your code here\n",
        "    pass"
      ]
    },
    {
      "cell_type": "code",
      "execution_count": 34,
      "id": "ab1f6f91",
      "metadata": {
        "id": "ab1f6f91",
        "outputId": "f417de80-9e73-4d59-d457-e169c0bd0c17",
        "colab": {
          "base_uri": "https://localhost:8080/"
        }
      },
      "outputs": [
        {
          "output_type": "stream",
          "name": "stdout",
          "text": [
            "Введите строку: 122\n",
            "False\n"
          ]
        }
      ],
      "source": [
        "def is_palindrome(s):\n",
        "    # Очищаем строку от неалфавитных символов и приводим к нижнему регистру\n",
        "    cleaned_string = ''.join(char for char in s if char.isalnum()).lower()\n",
        "    return cleaned_string == cleaned_string[::-1]\n",
        "\n",
        "s = input(\"Введите строку: \")\n",
        "print(is_palindrome(s))"
      ]
    },
    {
      "cell_type": "markdown",
      "id": "02626efb",
      "metadata": {
        "id": "02626efb"
      },
      "source": [
        "Чтобы проверить правильность своего решения, прогоните функцию через тест:"
      ]
    },
    {
      "cell_type": "code",
      "execution_count": null,
      "id": "9817a381",
      "metadata": {
        "id": "9817a381"
      },
      "outputs": [],
      "source": [
        "from typing import Callable, Iterable\n",
        "\n",
        "tests = [\n",
        "    'A nut for a jar of tuna.',\n",
        "    'Borrow or rob?',\n",
        "    'Was it a car or a cat I saw?',\n",
        "    'Murder for a jar of red rum.'\n",
        "]\n",
        "\n",
        "def test_palindrome(palindrom_func: Callable, tests: Iterable[str]) -> list:\n",
        "    for phrase in tests:\n",
        "        if not palindrom_func(phrase):\n",
        "            print(f\"Failed on phrase {phrase}\")"
      ]
    },
    {
      "cell_type": "markdown",
      "id": "f5221c92",
      "metadata": {
        "id": "f5221c92"
      },
      "source": [
        "# Примеры_2"
      ]
    },
    {
      "cell_type": "markdown",
      "id": "960ef4ba",
      "metadata": {
        "id": "960ef4ba"
      },
      "source": [
        "## Задачка:\n",
        "Напишите функцию, которая принимает от пользователя два списка целых чисел одинаковой длины и выполняет следующие операции:\n",
        "\n",
        "- Находит сумму элементов с одинаковыми индексами в каждом списке.\n",
        "- Вычисляет среднее арифметическое всех элементов из двух списков.\n",
        "- Возвращает список, состоящий из элементов, которые встречаются в обоих списках.\n"
      ]
    },
    {
      "cell_type": "code",
      "execution_count": 35,
      "id": "b2c05473",
      "metadata": {
        "id": "b2c05473"
      },
      "outputs": [],
      "source": [
        "def sum_lists(list1: list, list2: list) -> list:\n",
        "    return [a + b for a, b in zip(list1, list2)]\n",
        "\n",
        "def average_lists(list1: list, list2: list) -> float:\n",
        "    sum_list = sum_lists(list1, list2)\n",
        "    return sum(sum_lists(list1, list2)) / (len(sum_list) * 2)\n",
        "\n",
        "def common_elements(list1: list, list2: list) -> list:\n",
        "    return list(set(list1) & set(list2))"
      ]
    },
    {
      "cell_type": "code",
      "execution_count": 39,
      "id": "93ad1b20",
      "metadata": {
        "id": "93ad1b20",
        "outputId": "bb32dc86-c021-4eeb-fad3-a9417ee3ef48",
        "colab": {
          "base_uri": "https://localhost:8080/",
          "height": 228
        }
      },
      "outputs": [
        {
          "output_type": "error",
          "ename": "NameError",
          "evalue": "ignored",
          "traceback": [
            "\u001b[0;31m---------------------------------------------------------------------------\u001b[0m",
            "\u001b[0;31mNameError\u001b[0m                                 Traceback (most recent call last)",
            "\u001b[0;32m<ipython-input-39-f3a8a1dead13>\u001b[0m in \u001b[0;36m<cell line: 31>\u001b[0;34m()\u001b[0m\n\u001b[1;32m     29\u001b[0m         \u001b[0mprint\u001b[0m\u001b[0;34m(\u001b[0m\u001b[0;34mf\"Общие элементы: {common_elements(list1, list2)}\"\u001b[0m\u001b[0;34m)\u001b[0m\u001b[0;34m\u001b[0m\u001b[0;34m\u001b[0m\u001b[0m\n\u001b[1;32m     30\u001b[0m \u001b[0;34m\u001b[0m\u001b[0m\n\u001b[0;32m---> 31\u001b[0;31m \u001b[0;32mif\u001b[0m \u001b[0mname\u001b[0m \u001b[0;34m==\u001b[0m \u001b[0;34m\"__main__\"\u001b[0m\u001b[0;34m:\u001b[0m\u001b[0;34m\u001b[0m\u001b[0;34m\u001b[0m\u001b[0m\n\u001b[0m\u001b[1;32m     32\u001b[0m     \u001b[0mmain\u001b[0m\u001b[0;34m(\u001b[0m\u001b[0;34m)\u001b[0m\u001b[0;34m\u001b[0m\u001b[0;34m\u001b[0m\u001b[0m\n",
            "\u001b[0;31mNameError\u001b[0m: name 'name' is not defined"
          ]
        }
      ],
      "source": [
        "#****************************************************************\n",
        "\n"
      ]
    },
    {
      "cell_type": "markdown",
      "id": "62702f2b",
      "metadata": {
        "id": "62702f2b"
      },
      "source": [
        "## Задачка"
      ]
    },
    {
      "cell_type": "markdown",
      "id": "3dda0607",
      "metadata": {
        "id": "3dda0607"
      },
      "source": [
        "## Задачка на рекурсию"
      ]
    },
    {
      "cell_type": "markdown",
      "id": "81de379e",
      "metadata": {
        "id": "81de379e"
      },
      "source": [
        "Напишите функцию, вычисляющую факториал положительного числа."
      ]
    },
    {
      "cell_type": "code",
      "execution_count": 43,
      "id": "a069be04",
      "metadata": {
        "id": "a069be04",
        "outputId": "0bd21926-7e26-4de0-efd0-f885fcd44421",
        "colab": {
          "base_uri": "https://localhost:8080/"
        }
      },
      "outputs": [
        {
          "output_type": "stream",
          "name": "stdout",
          "text": [
            "Введите положительное число: 5\n",
            "Факториал числа 5 равен 120\n"
          ]
        }
      ],
      "source": [
        "def factorial(n):\n",
        "    if n < 0:\n",
        "        raise ValueError(\"Факториал определен только для положительных чисел\")\n",
        "    if n == 0 or n == 1:\n",
        "        return 1\n",
        "    else:\n",
        "        return n * factorial(n - 1)\n",
        "\n",
        "num = int(input(\"Введите положительное число: \"))\n",
        "result = factorial(num)\n",
        "print(\"Факториал числа\", num, \"равен\", result)"
      ]
    },
    {
      "cell_type": "code",
      "execution_count": null,
      "id": "fbc3de5b",
      "metadata": {
        "id": "fbc3de5b"
      },
      "outputs": [],
      "source": [
        "def factorial2(n):\n",
        "    if n == 0:\n",
        "        return 1  # условие выхода из рекурсии\n",
        "    return n * factorial2(n - 1)"
      ]
    },
    {
      "cell_type": "code",
      "execution_count": null,
      "id": "d90201ad",
      "metadata": {
        "id": "d90201ad",
        "outputId": "ccaefc15-cd32-4193-8ded-352887b4d332"
      },
      "outputs": [
        {
          "data": {
            "text/plain": [
              "24"
            ]
          },
          "execution_count": 159,
          "metadata": {},
          "output_type": "execute_result"
        }
      ],
      "source": [
        "factorial2(4)"
      ]
    },
    {
      "cell_type": "markdown",
      "id": "b4305fc3",
      "metadata": {
        "id": "b4305fc3"
      },
      "source": [
        "# Блок_2"
      ]
    },
    {
      "cell_type": "markdown",
      "id": "9ecf63cf",
      "metadata": {
        "id": "9ecf63cf"
      },
      "source": [
        "### Задачка 7"
      ]
    },
    {
      "cell_type": "markdown",
      "id": "cea14934",
      "metadata": {
        "id": "cea14934"
      },
      "source": [
        "Напишите функцию, вычисляющую n-ое число последовательности [Фибоначчи](https://ru.wikipedia.org/wiki/%D0%A7%D0%B8%D1%81%D0%BB%D0%B0_%D0%A4%D0%B8%D0%B1%D0%BE%D0%BD%D0%B0%D1%87%D1%87%D0%B8#:~:text=0%2C%201%2C%201%2C%202,%D1%80%D0%B0%D0%B2%D0%BD%D0%BE%20%D1%81%D1%83%D0%BC%D0%BC%D0%B5%20%D0%B4%D0%B2%D1%83%D1%85%20%D0%BF%D1%80%D0%B5%D0%B4%D1%8B%D0%B4%D1%83%D1%89%D0%B8%D1%85%20%D1%87%D0%B8%D1%81%D0%B5%D0%BB.).\n",
        "\n",
        "В последовательности Фибоначчи  первые два числа равны 0 и 1, а каждое последующее число равно сумме двух предыдущих чисел:\n",
        "\n",
        "`1, 1, 2, 3, 5, 8, 13, 21, ...`"
      ]
    },
    {
      "cell_type": "code",
      "execution_count": 46,
      "id": "f2ff6395",
      "metadata": {
        "id": "f2ff6395",
        "outputId": "da1e30fa-d6b7-4a1d-8e41-34a2f862dd7c",
        "colab": {
          "base_uri": "https://localhost:8080/"
        }
      },
      "outputs": [
        {
          "output_type": "stream",
          "name": "stdout",
          "text": [
            "Введите число n :  10\n",
            "число последовательности Фибоначчи: 55\n"
          ]
        }
      ],
      "source": [
        "def fibonacci(n):\n",
        "    if n <= 0:\n",
        "        raise ValueError(\"Число n должно быть положительным\")\n",
        "    if n == 1 or n == 2:\n",
        "        return 1\n",
        "    else:\n",
        "        return fibonacci(n - 1) + fibonacci(n - 2)\n",
        "\n",
        "num = int(input(\"Введите число n :  \"))\n",
        "result = fibonacci(num)\n",
        "print(\"число последовательности Фибоначчи:\", result)"
      ]
    },
    {
      "cell_type": "markdown",
      "id": "225189bb",
      "metadata": {
        "id": "225189bb"
      },
      "source": [
        "### Задачка 8\n",
        "\n",
        "Напишите функцию, принимающую на вход два списка одинаковой длины и возвращающую список такой же длины, состоящий из суммы элементов с одинаковым индексом если эти элементы различны и 0, если эти элементы равны.\n",
        "\n",
        "Пример:\n",
        "\n",
        "```\n",
        "a = [1, 2, 3, 4, 5]\n",
        "b = [2, 1, 3, 6, 1]\n",
        "\n",
        "res = [3, 3, 0, 10, 5]\n",
        "```"
      ]
    },
    {
      "cell_type": "code",
      "execution_count": 48,
      "id": "27dc52dd",
      "metadata": {
        "id": "27dc52dd",
        "outputId": "4f717878-8930-4298-89f8-1b8b011678cd",
        "colab": {
          "base_uri": "https://localhost:8080/",
          "height": 211
        }
      },
      "outputs": [
        {
          "output_type": "error",
          "ename": "NameError",
          "evalue": "ignored",
          "traceback": [
            "\u001b[0;31m---------------------------------------------------------------------------\u001b[0m",
            "\u001b[0;31mNameError\u001b[0m                                 Traceback (most recent call last)",
            "\u001b[0;32m<ipython-input-48-d694ec65798b>\u001b[0m in \u001b[0;36m<cell line: 11>\u001b[0;34m()\u001b[0m\n\u001b[1;32m      9\u001b[0m         \u001b[0;32melse\u001b[0m\u001b[0;34m:\u001b[0m\u001b[0;34m\u001b[0m\u001b[0;34m\u001b[0m\u001b[0m\n\u001b[1;32m     10\u001b[0m             \u001b[0mresult\u001b[0m\u001b[0;34m.\u001b[0m\u001b[0mappend\u001b[0m\u001b[0;34m(\u001b[0m\u001b[0mlist1\u001b[0m\u001b[0;34m[\u001b[0m\u001b[0mi\u001b[0m\u001b[0;34m]\u001b[0m \u001b[0;34m+\u001b[0m \u001b[0mlist2\u001b[0m\u001b[0;34m[\u001b[0m\u001b[0mi\u001b[0m\u001b[0;34m]\u001b[0m\u001b[0;34m)\u001b[0m\u001b[0;34m\u001b[0m\u001b[0;34m\u001b[0m\u001b[0m\n\u001b[0;32m---> 11\u001b[0;31m \u001b[0mprint\u001b[0m\u001b[0;34m(\u001b[0m\u001b[0mres\u001b[0m\u001b[0;34m)\u001b[0m\u001b[0;34m\u001b[0m\u001b[0;34m\u001b[0m\u001b[0m\n\u001b[0m",
            "\u001b[0;31mNameError\u001b[0m: name 'res' is not defined"
          ]
        }
      ],
      "source": [
        "def process_lists(list1, list2):\n",
        "    if len(list1) != len(list2):\n",
        "        raise ValueError(\"Списки должны быть одинаковой длины\")\n",
        "\n",
        "    result = []\n",
        "    for i in range(len(li"
      ]
    },
    {
      "cell_type": "markdown",
      "id": "9ef6ffe9",
      "metadata": {
        "id": "9ef6ffe9"
      },
      "source": [
        "### Задачка 9\n",
        "\n",
        "Напишите функцию, сортируюущую список строк в алфавитном порядке, но в обратном порядке строки (то есть сначала смотрим на последнюю букву в строке, если они одинаковые, то на предпоследнюю и т.д.)\n",
        "\n",
        "Пример:\n",
        "\n",
        "```\n",
        "a = [ab, sdsda, saae, wdsdq, ssdz]\n",
        "\n",
        "res = [sdsda, ab, saae, wdsdq, ssdz]\n",
        "```"
      ]
    },
    {
      "cell_type": "code",
      "execution_count": 50,
      "id": "d0806f7d",
      "metadata": {
        "id": "d0806f7d",
        "outputId": "a81fa681-b0d5-4709-e775-cfc98ab9a1dc",
        "colab": {
          "base_uri": "https://localhost:8080/"
        }
      },
      "outputs": [
        {
          "output_type": "stream",
          "name": "stdout",
          "text": [
            "hello\n",
            "['e', 'h', 'l', 'l', 'o']\n"
          ]
        }
      ],
      "source": [
        "def custom_reverse_alphabetical_sort(string_list):\n",
        "    def custom_key(item):\n",
        "        return item[::-1]\n",
        "    sorted_list = sorted(string_list, key=custom_key)\n",
        "    return sorted_list\n",
        "string_list = input(\"\")\n",
        "result = custom_reverse_alphabetical_sort(string_list)\n",
        "print(result)"
      ]
    },
    {
      "cell_type": "markdown",
      "id": "3a6915f4",
      "metadata": {
        "id": "3a6915f4"
      },
      "source": [
        "### Задачка 10"
      ]
    },
    {
      "cell_type": "markdown",
      "id": "016e8ed7",
      "metadata": {
        "id": "016e8ed7"
      },
      "source": [
        "Напишите функцию, принимающую на вход список и число и возвращающую список в котором удалены все числа больше заданного числа.\n",
        "\n",
        "\n",
        "Пример:\n",
        "\n",
        "```\n",
        "a = [1, 2, 3, 4, 5, 7, 8, 3]\n",
        "n = 5\n",
        "\n",
        "res = [1, 2, 3, 4, 3]\n",
        "```"
      ]
    },
    {
      "cell_type": "code",
      "execution_count": 51,
      "id": "4708b6af",
      "metadata": {
        "id": "4708b6af",
        "outputId": "fda80acc-f9a6-41a3-c75e-6638fbf75dc6",
        "colab": {
          "base_uri": "https://localhost:8080/",
          "height": 408
        }
      },
      "outputs": [
        {
          "name": "stdout",
          "output_type": "stream",
          "text": [
            "40 50 70\n",
            "Введите пороговое число: 50\n"
          ]
        },
        {
          "output_type": "error",
          "ename": "TypeError",
          "evalue": "ignored",
          "traceback": [
            "\u001b[0;31m---------------------------------------------------------------------------\u001b[0m",
            "\u001b[0;31mTypeError\u001b[0m                                 Traceback (most recent call last)",
            "\u001b[0;32m<ipython-input-51-b7e7ddc2971d>\u001b[0m in \u001b[0;36m<cell line: 9>\u001b[0;34m()\u001b[0m\n\u001b[1;32m      7\u001b[0m \u001b[0mthreshold_number\u001b[0m \u001b[0;34m=\u001b[0m \u001b[0mint\u001b[0m\u001b[0;34m(\u001b[0m\u001b[0minput\u001b[0m\u001b[0;34m(\u001b[0m\u001b[0;34m\"Введите пороговое число: \"\u001b[0m\u001b[0;34m)\u001b[0m\u001b[0;34m)\u001b[0m\u001b[0;34m\u001b[0m\u001b[0;34m\u001b[0m\u001b[0m\n\u001b[1;32m      8\u001b[0m \u001b[0;34m\u001b[0m\u001b[0m\n\u001b[0;32m----> 9\u001b[0;31m \u001b[0mresult\u001b[0m \u001b[0;34m=\u001b[0m \u001b[0mremove_greater_numbers\u001b[0m\u001b[0;34m(\u001b[0m\u001b[0mnumbers\u001b[0m\u001b[0;34m,\u001b[0m \u001b[0mthreshold_number\u001b[0m\u001b[0;34m)\u001b[0m\u001b[0;34m\u001b[0m\u001b[0;34m\u001b[0m\u001b[0m\n\u001b[0m\u001b[1;32m     10\u001b[0m \u001b[0mprint\u001b[0m\u001b[0;34m(\u001b[0m\u001b[0;34m\"Список после удаления чисел больше\"\u001b[0m\u001b[0;34m,\u001b[0m \u001b[0mthreshold_number\u001b[0m\u001b[0;34m,\u001b[0m \u001b[0;34m\":\"\u001b[0m\u001b[0;34m,\u001b[0m \u001b[0mresult\u001b[0m\u001b[0;34m)\u001b[0m\u001b[0;34m\u001b[0m\u001b[0;34m\u001b[0m\u001b[0m\n",
            "\u001b[0;32m<ipython-input-51-b7e7ddc2971d>\u001b[0m in \u001b[0;36mremove_greater_numbers\u001b[0;34m(input_list, threshold)\u001b[0m\n\u001b[1;32m      1\u001b[0m \u001b[0;32mdef\u001b[0m \u001b[0mremove_greater_numbers\u001b[0m\u001b[0;34m(\u001b[0m\u001b[0minput_list\u001b[0m\u001b[0;34m,\u001b[0m \u001b[0mthreshold\u001b[0m\u001b[0;34m)\u001b[0m\u001b[0;34m:\u001b[0m\u001b[0;34m\u001b[0m\u001b[0;34m\u001b[0m\u001b[0m\n\u001b[0;32m----> 2\u001b[0;31m     \u001b[0mfiltered_list\u001b[0m \u001b[0;34m=\u001b[0m \u001b[0;34m[\u001b[0m\u001b[0mx\u001b[0m \u001b[0;32mfor\u001b[0m \u001b[0mx\u001b[0m \u001b[0;32min\u001b[0m \u001b[0minput_list\u001b[0m \u001b[0;32mif\u001b[0m \u001b[0mx\u001b[0m \u001b[0;34m<=\u001b[0m \u001b[0mthreshold\u001b[0m\u001b[0;34m]\u001b[0m\u001b[0;34m\u001b[0m\u001b[0;34m\u001b[0m\u001b[0m\n\u001b[0m\u001b[1;32m      3\u001b[0m     \u001b[0;32mreturn\u001b[0m \u001b[0mfiltered_list\u001b[0m\u001b[0;34m\u001b[0m\u001b[0;34m\u001b[0m\u001b[0m\n\u001b[1;32m      4\u001b[0m \u001b[0;34m\u001b[0m\u001b[0m\n\u001b[1;32m      5\u001b[0m \u001b[0;34m\u001b[0m\u001b[0m\n",
            "\u001b[0;32m<ipython-input-51-b7e7ddc2971d>\u001b[0m in \u001b[0;36m<listcomp>\u001b[0;34m(.0)\u001b[0m\n\u001b[1;32m      1\u001b[0m \u001b[0;32mdef\u001b[0m \u001b[0mremove_greater_numbers\u001b[0m\u001b[0;34m(\u001b[0m\u001b[0minput_list\u001b[0m\u001b[0;34m,\u001b[0m \u001b[0mthreshold\u001b[0m\u001b[0;34m)\u001b[0m\u001b[0;34m:\u001b[0m\u001b[0;34m\u001b[0m\u001b[0;34m\u001b[0m\u001b[0m\n\u001b[0;32m----> 2\u001b[0;31m     \u001b[0mfiltered_list\u001b[0m \u001b[0;34m=\u001b[0m \u001b[0;34m[\u001b[0m\u001b[0mx\u001b[0m \u001b[0;32mfor\u001b[0m \u001b[0mx\u001b[0m \u001b[0;32min\u001b[0m \u001b[0minput_list\u001b[0m \u001b[0;32mif\u001b[0m \u001b[0mx\u001b[0m \u001b[0;34m<=\u001b[0m \u001b[0mthreshold\u001b[0m\u001b[0;34m]\u001b[0m\u001b[0;34m\u001b[0m\u001b[0;34m\u001b[0m\u001b[0m\n\u001b[0m\u001b[1;32m      3\u001b[0m     \u001b[0;32mreturn\u001b[0m \u001b[0mfiltered_list\u001b[0m\u001b[0;34m\u001b[0m\u001b[0;34m\u001b[0m\u001b[0m\n\u001b[1;32m      4\u001b[0m \u001b[0;34m\u001b[0m\u001b[0m\n\u001b[1;32m      5\u001b[0m \u001b[0;34m\u001b[0m\u001b[0m\n",
            "\u001b[0;31mTypeError\u001b[0m: '<=' not supported between instances of 'str' and 'int'"
          ]
        }
      ],
      "source": []
    }
  ],
  "metadata": {
    "kernelspec": {
      "display_name": "Python 3 (ipykernel)",
      "language": "python",
      "name": "python3"
    },
    "language_info": {
      "codemirror_mode": {
        "name": "ipython",
        "version": 3
      },
      "file_extension": ".py",
      "mimetype": "text/x-python",
      "name": "python",
      "nbconvert_exporter": "python",
      "pygments_lexer": "ipython3",
      "version": "3.10.9"
    },
    "colab": {
      "provenance": [],
      "include_colab_link": true
    }
  },
  "nbformat": 4,
  "nbformat_minor": 5
}