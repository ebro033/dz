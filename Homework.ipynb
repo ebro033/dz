{
  "cells": [
    {
      "cell_type": "markdown",
      "metadata": {
        "id": "view-in-github",
        "colab_type": "text"
      },
      "source": [
        "<a href=\"https://colab.research.google.com/github/ebro033/dz/blob/main/Homework.ipynb\" target=\"_parent\"><img src=\"https://colab.research.google.com/assets/colab-badge.svg\" alt=\"Open In Colab\"/></a>"
      ]
    },
    {
      "cell_type": "markdown",
      "id": "9deea47b",
      "metadata": {
        "id": "9deea47b"
      },
      "source": [
        "Домашнее задание состоит из 2 частей:\n",
        "    \n",
        "   - [Базовая практика](##-Базовая-практика.) - несложные задачки на тренировку написания кода, оцениваются в 1 балл.\n",
        "   - [Дополнительная практика](##-Дополнительная-практика.) - дополнительные задачки оцениваются дороже.\n",
        ""
      ]
    },
    {
      "cell_type": "markdown",
      "id": "7769c7c8",
      "metadata": {
        "id": "7769c7c8"
      },
      "source": [
        "## Базовая практика."
      ]
    },
    {
      "cell_type": "markdown",
      "id": "72936859",
      "metadata": {
        "id": "72936859"
      },
      "source": [
        "### Задача 1"
      ]
    },
    {
      "cell_type": "markdown",
      "id": "4c802b9c",
      "metadata": {
        "id": "4c802b9c"
      },
      "source": [
        " Напишите функцию `max_word_length`, которая принимает список слов в качестве аргумента и возвращает длину самого длинного слова в списке."
      ]
    },
    {
      "cell_type": "code",
      "execution_count": null,
      "id": "8d567ec7",
      "metadata": {
        "id": "8d567ec7"
      },
      "outputs": [],
      "source": [
        "def max_word_length(words):\n",
        "    return max(len(word) for word in words)"
      ]
    },
    {
      "cell_type": "markdown",
      "id": "c0ccf5c6",
      "metadata": {
        "id": "c0ccf5c6"
      },
      "source": [
        "### Задача 2"
      ]
    },
    {
      "cell_type": "markdown",
      "id": "27b64e32",
      "metadata": {
        "id": "27b64e32"
      },
      "source": [
        "Напишите функцию на Python `is_leap_year()`, которая принимает на вход натуральное число - год по Григорианскому календарю и возвращает True, если это високосный год и False иначе.\n",
        "\n",
        "***Подсказка***  *Год по Григорианском календарю - високосный, если*\n",
        "- *он делится нацело на 4 и не делится на 100*\n",
        "- *если делится на 400*\n"
      ]
    },
    {
      "cell_type": "code",
      "execution_count": 1,
      "id": "4d61d27a",
      "metadata": {
        "id": "4d61d27a",
        "colab": {
          "base_uri": "https://localhost:8080/"
        },
        "outputId": "4e0a8d1e-c7b7-4c55-bdfa-1b519a6ec892"
      },
      "outputs": [
        {
          "output_type": "stream",
          "name": "stdout",
          "text": [
            "Введите год: 1999\n",
            "не високостный\n"
          ]
        }
      ],
      "source": [
        "def leap_year():\n",
        "    year = int(input(\"Введите год: \"))\n",
        "\n",
        "    if (year % 4 == 0 and year % 100 != 0) or year % 400 == 0:\n",
        "        return True\n",
        "    return False\n",
        "\n",
        "# Пример использования\n",
        "if leap_year():\n",
        "    print(\"високосный год!\")\n",
        "else:\n",
        "    print(\"не високостный\")"
      ]
    },
    {
      "cell_type": "markdown",
      "id": "e5c99df5",
      "metadata": {
        "id": "e5c99df5"
      },
      "source": [
        "### Задача 3\n",
        "\n",
        "Используя функцию `is_leap_year()` напишите функцию filter_leap_year(), которая принимает на вход список дат - строк в формате DD.MM.YEAR и возвращает отфильтрованный список, в котором удалены даты високосных лет.\n",
        "\n",
        "\n",
        "Пример:\n",
        "```\n",
        "dates = [\"16.02.1998\", \"21.12.1876\", \"21.01.1955\", \"6.11.1228\", \"31.12.1200\", \"9.07.2351\"]\n",
        "\n",
        "res = [\"16.02.1998\",  \"21.01.1955\", \"9.07.2351\"]\n",
        "```"
      ]
    },
    {
      "cell_type": "code",
      "execution_count": 3,
      "id": "784d1f6d",
      "metadata": {
        "id": "784d1f6d",
        "colab": {
          "base_uri": "https://localhost:8080/"
        },
        "outputId": "072dbc70-1700-4d17-ca7b-ac561056a683"
      },
      "outputs": [
        {
          "output_type": "stream",
          "name": "stdout",
          "text": [
            "Введите список дат в формате DD.MM.YEAR, разделяя их запятыми: 26.02.2005, 07.07.1997\n",
            "Даты, которые не принадлежат високосным годам: ['26.02.2005', '07.07.1997']\n"
          ]
        }
      ],
      "source": [
        "def is_leap_year(year):\n",
        "    if (year % 4 == 0 and year % 100 != 0) or year % 400 == 0:\n",
        "        return True\n",
        "    return False\n",
        "\n",
        "def filter_leap_year():\n",
        "    dates = input(\"Введите список дат в формате DD.MM.YEAR, разделяя их запятыми: \").split(\",\")\n",
        "    filtered_dates = [date.strip() for date in dates if not is_leap_year(int(date.strip().split(\".\")[2]))]\n",
        "    return filtered_dates\n",
        "\n",
        "filtered_dates = filter_leap_year()\n",
        "print(\"Даты, которые не принадлежат високосным :\", filtered_dates)"
      ]
    },
    {
      "cell_type": "markdown",
      "id": "261d649b",
      "metadata": {
        "id": "261d649b"
      },
      "source": [
        "### Задача 4.\n",
        "\n",
        "Напишите рекурсивную функцию возведения числа в степень.\n",
        "\n",
        "\n",
        "*Рекурсивная функция - это функция, которая вызывает сама себя с некоторым изменением параметров до тех пор, пока не будет достигнуто условие выхода из рекурсии.*\n",
        "\n",
        "*Понятное объяснение на [матрешках](https://www.youtube.com/watch?v=NOaSY5pJmyc).*"
      ]
    },
    {
      "cell_type": "code",
      "execution_count": 6,
      "id": "a1a77148",
      "metadata": {
        "id": "a1a77148",
        "colab": {
          "base_uri": "https://localhost:8080/"
        },
        "outputId": "4ee401bb-e39f-47c5-ae21-eb6fb149af8a"
      },
      "outputs": [
        {
          "output_type": "stream",
          "name": "stdout",
          "text": [
            "1953125\n"
          ]
        }
      ],
      "source": [
        "def power(a, n):\n",
        "    if n == 0:\n",
        "        return 1\n",
        "    else:\n",
        "        return a * power(a, n-1)\n",
        "\n",
        "result = power(5, 9)\n",
        "print(result)"
      ]
    },
    {
      "cell_type": "markdown",
      "id": "513ddedf",
      "metadata": {
        "id": "513ddedf"
      },
      "source": [
        "### Задача 5"
      ]
    },
    {
      "cell_type": "markdown",
      "id": "622e0454",
      "metadata": {
        "id": "622e0454"
      },
      "source": [
        "Создать классы для работы с телефонной книгой.\n",
        "\n",
        "Требования:\n",
        "\n",
        "- Создать класс `PhoneBook`.\n",
        "- Класс `PhoneBook` должен содержать методы:\n",
        "    - `add_contact` добавления новой записи в книгу\n",
        "    - `remove_contact` удаления записи из книги\n",
        "    - `find_contact` поиска записи по имени, вывода всех записей в книге.\n",
        "    - `show_all_contacts` вывода всех сохраненных контактов в случайном порядке.\n",
        "    - `show_sorted_contacts` вывода всех сохраненных контактов в алфавитном порядке по имени (Нормально, если будет работать дольше).\n",
        "\n",
        "- Каждая запись `Contact` в книге должна содержать следующие атрибуты:\n",
        "    - `name` (имя контакта)\n",
        "    - `phone_number` (номер телефона контакта)\n",
        "    - `email` (адрес электронной почты контакта)\n",
        "    \n",
        "Методы класса PhoneBook должны позволять работать с записями в книге как с объектами класса. Подумайте, в какой структуре данных эффективнее хранить контакты в адресной книге.\n",
        "\n",
        "Создайте несколько контактов и протестируйте работу методов PhoneBook"
      ]
    },
    {
      "cell_type": "code",
      "execution_count": null,
      "id": "0b53d454",
      "metadata": {
        "id": "0b53d454"
      },
      "outputs": [],
      "source": []
    },
    {
      "cell_type": "markdown",
      "id": "e195b0a1",
      "metadata": {
        "id": "e195b0a1"
      },
      "source": [
        "## Дополнительная практика"
      ]
    },
    {
      "cell_type": "markdown",
      "id": "8af4ca63",
      "metadata": {
        "id": "8af4ca63"
      },
      "source": [
        "### Задача 6 (2 балла)"
      ]
    },
    {
      "cell_type": "markdown",
      "id": "4d2d3eba",
      "metadata": {
        "id": "4d2d3eba"
      },
      "source": [
        "Напишите функцию `is_anagram()`, которая принимает на вход две строки и возвращает True, если они являются анаграмами друг друга.\n",
        "\n",
        "Пример\n",
        "\n",
        "```\n",
        ">>> is_anagram(\"manometrical\", \"commentarial\")\n",
        "\n",
        "True\n",
        "\n",
        ">>> is_anagram(\"tastes\", \"estate\")\n",
        "\n",
        "False\n",
        "\n",
        "```"
      ]
    },
    {
      "cell_type": "code",
      "execution_count": 7,
      "id": "e82c2c54",
      "metadata": {
        "id": "e82c2c54",
        "colab": {
          "base_uri": "https://localhost:8080/"
        },
        "outputId": "f43aafb4-534f-4778-ec63-2417c27c9022"
      },
      "outputs": [
        {
          "output_type": "stream",
          "name": "stdout",
          "text": [
            "Введите первую строку: ghbdtn\n",
            "Введите вторую строку: ghbdtn\n",
            "Строки являются анаграммами!\n"
          ]
        }
      ],
      "source": [
        "def anagram():\n",
        "    str1 = input(\"Введите первую строку: \")\n",
        "    str2 = input(\"Введите вторую строку: \")\n",
        "\n",
        "    return sorted(str1) == sorted(str2)\n",
        "\n",
        "if anagram():\n",
        "    print(\"Строки являются анаграммами!\")\n",
        "else:\n",
        "    print(\"Строки НЕ являются анаграммами!\")"
      ]
    },
    {
      "cell_type": "code",
      "execution_count": null,
      "id": "ffe1828b",
      "metadata": {
        "id": "ffe1828b"
      },
      "outputs": [],
      "source": []
    },
    {
      "cell_type": "markdown",
      "id": "7c93c309",
      "metadata": {
        "id": "7c93c309"
      },
      "source": [
        "### Задача 7 (2 балла)"
      ]
    },
    {
      "cell_type": "markdown",
      "id": "6e264c9d",
      "metadata": {
        "id": "6e264c9d"
      },
      "source": [
        "Наишите функцию, возвращающую наибольший делитель двух неотрицательных числел.\n",
        "$a$, $b$ -- неотрицательные числа. Наибольший общий делитель -- наибольшее число, которое является делителем и $a$, и $b$.\n",
        "\n",
        "Существует [алгоритм Евклида](https://ru.wikipedia.org/wiki/%D0%90%D0%BB%D0%B3%D0%BE%D1%80%D0%B8%D1%82%D0%BC_%D0%95%D0%B2%D0%BA%D0%BB%D0%B8%D0%B4%D0%B0), который кратко можно описать так:\n",
        "\n",
        "`gcd(a, b) = a if b = 0`\n",
        "\n",
        "`gcd(a, b) = gcd(b, a mod b) иначе`,\n",
        "где `a mod b` - остаток от деления `a` на `b`.\n",
        "\n",
        "Напишите два варианта решение - рекурсивное и через цикл (будет начислено по 1 баллу за каждый вариант)."
      ]
    },
    {
      "cell_type": "code",
      "execution_count": 10,
      "id": "b189c538",
      "metadata": {
        "id": "b189c538",
        "colab": {
          "base_uri": "https://localhost:8080/"
        },
        "outputId": "3e63031d-c366-4e82-958a-66fa9b0a16a6"
      },
      "outputs": [
        {
          "output_type": "stream",
          "name": "stdout",
          "text": [
            "Введите первое число: 199\n",
            "Введите второе число: 2\n",
            "1\n"
          ]
        }
      ],
      "source": [
        "def gcd_loop_input():\n",
        "    a = int(input(\"Введите первое число: \"))\n",
        "    b = int(input(\"Введите второе число: \"))\n",
        "\n",
        "    while b:\n",
        "        a, b = b, a % b\n",
        "    return a\n",
        "    #Проверка ( циклы )\n",
        "\n",
        "print(gcd_loop_input())"
      ]
    },
    {
      "cell_type": "markdown",
      "id": "abbeb11e",
      "metadata": {
        "id": "abbeb11e"
      },
      "source": [
        "### Задача 8 (3 балла)"
      ]
    },
    {
      "cell_type": "markdown",
      "id": "c3df7afe",
      "metadata": {
        "id": "c3df7afe"
      },
      "source": [
        "Вам нужно реализовать класс [`LifeGame`](https://ru.wikipedia.org/wiki/%D0%98%D0%B3%D1%80%D0%B0_%C2%AB%D0%96%D0%B8%D0%B7%D0%BD%D1%8C%C2%BB).\n",
        "* Инициализируется начальным состоянием океана - прямоугольным списком списков (формируя тем самым матрицу), каждый элемент которого это число.\n",
        "0 - если ячейка пустая, 1 - если в ячейке живая клетка\n",
        "* Содержит метод `get_next_generation`, который обновляет состояние океана и возвращает его содержимое\n",
        "* Переопределенный `__str__` и  `__repr__` для вывода текущего состояния в виде красивой строки (Для превращения списка списков в строку используйте строковый метод `.join()` (объединение через пробел - \" \".join(list1)) и с символом переноса строки \"\\n\".join(list2))\n",
        "\n",
        "Игра жизнь устроена по следующим правилам:\n",
        "- изменение всех ячеек океана происходит одновременно, учитывая только состояния ячеек в предыдущий момент времени\n",
        "- в пустой (мёртвой) клетке, с которой соседствуют три живые клетки, зарождается жизнь;\n",
        "- если у живой клетки есть две или три живые соседки, то эта клетка продолжает жить; в противном случае (если живых соседей меньше двух или больше трёх) клетка умирает («от одиночества» или «от перенаселённости»).\n",
        "Игра прекращается, если\n",
        "- на поле не останется ни одной «живой» клетки;\n",
        "- конфигурация на очередном шаге в точности (без сдвигов и поворотов) повторит себя же на одном из более ранних шагов (складывается периодическая конфигурация)\n",
        "- при очередном шаге ни одна из клеток не меняет своего состояния (частный случай предыдущего правила, складывается стабильная конфигурация)\n"
      ]
    },
    {
      "cell_type": "code",
      "execution_count": null,
      "id": "8a185c91",
      "metadata": {
        "id": "8a185c91"
      },
      "outputs": [],
      "source": []
    }
  ],
  "metadata": {
    "kernelspec": {
      "display_name": "Python 3 (ipykernel)",
      "language": "python",
      "name": "python3"
    },
    "language_info": {
      "codemirror_mode": {
        "name": "ipython",
        "version": 3
      },
      "file_extension": ".py",
      "mimetype": "text/x-python",
      "name": "python",
      "nbconvert_exporter": "python",
      "pygments_lexer": "ipython3",
      "version": "3.10.9"
    },
    "colab": {
      "provenance": [],
      "include_colab_link": true
    }
  },
  "nbformat": 4,
  "nbformat_minor": 5
}